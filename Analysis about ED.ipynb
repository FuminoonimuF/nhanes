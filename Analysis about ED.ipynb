{
 "cells": [
  {
   "cell_type": "markdown",
   "metadata": {
    "_uuid": "bbd660b62cc616efa33651beedc49b86045b784d"
   },
   "source": [
    "## <font size=5> <strong>Analysis about ED\n",
    " "
   ]
  },
  {
   "cell_type": "markdown",
   "metadata": {
    "_uuid": "e41ea25bec5928203cec544d0413fecd4b4e5555"
   },
   "source": [
    "## I. Importing essential libraries"
   ]
  },
  {
   "cell_type": "code",
   "execution_count": 53,
   "metadata": {
    "_uuid": "f571f7e57c828d45fe55f6136fe8c2e796f74d4e"
   },
   "outputs": [],
   "source": [
    "import numpy as np\n",
    "import pandas as pd\n",
    "import matplotlib.pyplot as plt\n",
    "from matplotlib import rcParams\n",
    "import seaborn as sns\n",
    "import os\n",
    "import warnings\n",
    "import sys\n",
    "\n",
    "from sklearn.metrics import accuracy_score\n",
    "from sklearn.model_selection import train_test_split\n",
    "from sklearn.linear_model import LogisticRegression\n",
    "from sklearn.preprocessing import StandardScaler\n",
    "from keras.models import Sequential\n",
    "from keras.layers import Dense, LSTM, Input, Dropout, Embedding\n",
    "from keras.losses import CategoricalCrossentropy\n",
    "from keras.optimizers import SGD, Adam\n",
    "warnings.filterwarnings('ignore')\n",
    "\n",
    "# show progress\n",
    "def show_progress(total,current):\n",
    "    percent = current*100/total\n",
    "    progress = '▉' * int(percent/10)\n",
    "    sys.stdout.write(f\"\\rProgress:[{progress:<10}] {percent:.1f}%\")\n",
    "    sys.stdout.flush()"
   ]
  },
  {
   "cell_type": "markdown",
   "metadata": {
    "_uuid": "44e71221837f6fa60edc2c83b7492ddb019cc1cd"
   },
   "source": [
    "## II. Importing and understanding our dataset "
   ]
  },
  {
   "cell_type": "code",
   "execution_count": 82,
   "metadata": {
    "_uuid": "2a1a1dae64ae3c934849b2b918bc7d68cd59e3f6"
   },
   "outputs": [],
   "source": [
    "dataset_ed = pd.read_csv('ED.csv')\n",
    "dataset_b12 = pd.read_csv('B12.csv')\n",
    "dataset_d = pd.read_csv('D.csv')\n",
    "dateset_bmx = pd.read_csv('BMI.csv')\n",
    "dataset_demo = pd.read_csv('DEMO_B.csv')\n",
    "dataset_fda = pd.read_csv('FDA.csv')\n",
    "dataset_sst = pd.read_csv('SST.csv')\n",
    "dataset_diq = pd.read_csv('DIQ.csv')\n",
    "dataset_ald = pd.read_csv('ALD.csv')\n",
    "dataset_smoke = pd.read_csv('SMOKE.csv')\n",
    "dataset_sports = pd.read_csv('SPORTS.csv')"
   ]
  },
  {
   "cell_type": "markdown",
   "metadata": {
    "_uuid": "44649a50ce58d2e10a032f7d0e7ecf435e932481"
   },
   "source": [
    "#### Create interviewee info data"
   ]
  },
  {
   "cell_type": "code",
   "execution_count": 83,
   "metadata": {
    "_uuid": "0a2396061d262bee451e61dd51be84d0bd1ac9d0"
   },
   "outputs": [
    {
     "data": {
      "text/html": [
       "<div>\n",
       "<style scoped>\n",
       "    .dataframe tbody tr th:only-of-type {\n",
       "        vertical-align: middle;\n",
       "    }\n",
       "\n",
       "    .dataframe tbody tr th {\n",
       "        vertical-align: top;\n",
       "    }\n",
       "\n",
       "    .dataframe thead th {\n",
       "        text-align: right;\n",
       "    }\n",
       "</style>\n",
       "<table border=\"1\" class=\"dataframe\">\n",
       "  <thead>\n",
       "    <tr style=\"text-align: right;\">\n",
       "      <th></th>\n",
       "      <th>BMXWT</th>\n",
       "      <th>SEQN</th>\n",
       "      <th>BMXBMI</th>\n",
       "      <th>RIAGENDR</th>\n",
       "      <th>RIDAGEYR</th>\n",
       "      <th>RIDRETH1</th>\n",
       "      <th>DIQ010</th>\n",
       "      <th>SSTESTO</th>\n",
       "      <th>FDACODE1</th>\n",
       "      <th>FDACODE2</th>\n",
       "      <th>FDACODE3</th>\n",
       "      <th>FDACODE4</th>\n",
       "      <th>FDACODE5</th>\n",
       "      <th>FDACODE6</th>\n",
       "      <th>PAD320</th>\n",
       "      <th>PAD480</th>\n",
       "      <th>BMXBMI</th>\n",
       "      <th>SMQ020</th>\n",
       "      <th>ALD100</th>\n",
       "    </tr>\n",
       "  </thead>\n",
       "  <tbody>\n",
       "    <tr>\n",
       "      <th>0</th>\n",
       "      <td>91.7</td>\n",
       "      <td>9966.0</td>\n",
       "      <td>30.22</td>\n",
       "      <td>1.0</td>\n",
       "      <td>39.0</td>\n",
       "      <td>3.0</td>\n",
       "      <td>2.0</td>\n",
       "      <td>4.38</td>\n",
       "      <td>NaN</td>\n",
       "      <td>NaN</td>\n",
       "      <td>NaN</td>\n",
       "      <td>NaN</td>\n",
       "      <td>NaN</td>\n",
       "      <td>NaN</td>\n",
       "      <td>1.0</td>\n",
       "      <td>2.0</td>\n",
       "      <td>30.22</td>\n",
       "      <td>1.0</td>\n",
       "      <td>1.0</td>\n",
       "    </tr>\n",
       "    <tr>\n",
       "      <th>1</th>\n",
       "      <td>84.0</td>\n",
       "      <td>9967.0</td>\n",
       "      <td>29.98</td>\n",
       "      <td>1.0</td>\n",
       "      <td>23.0</td>\n",
       "      <td>4.0</td>\n",
       "      <td>2.0</td>\n",
       "      <td>NaN</td>\n",
       "      <td>NaN</td>\n",
       "      <td>NaN</td>\n",
       "      <td>NaN</td>\n",
       "      <td>NaN</td>\n",
       "      <td>NaN</td>\n",
       "      <td>NaN</td>\n",
       "      <td>2.0</td>\n",
       "      <td>0.0</td>\n",
       "      <td>29.98</td>\n",
       "      <td>2.0</td>\n",
       "      <td>1.0</td>\n",
       "    </tr>\n",
       "    <tr>\n",
       "      <th>2</th>\n",
       "      <td>51.7</td>\n",
       "      <td>9968.0</td>\n",
       "      <td>24.62</td>\n",
       "      <td>2.0</td>\n",
       "      <td>84.0</td>\n",
       "      <td>3.0</td>\n",
       "      <td>2.0</td>\n",
       "      <td>NaN</td>\n",
       "      <td>1720.0</td>\n",
       "      <td>1721.0</td>\n",
       "      <td>NaN</td>\n",
       "      <td>NaN</td>\n",
       "      <td>NaN</td>\n",
       "      <td>NaN</td>\n",
       "      <td>2.0</td>\n",
       "      <td>2.0</td>\n",
       "      <td>24.62</td>\n",
       "      <td>1.0</td>\n",
       "      <td>1.0</td>\n",
       "    </tr>\n",
       "    <tr>\n",
       "      <th>3</th>\n",
       "      <td>51.7</td>\n",
       "      <td>9968.0</td>\n",
       "      <td>24.62</td>\n",
       "      <td>2.0</td>\n",
       "      <td>84.0</td>\n",
       "      <td>3.0</td>\n",
       "      <td>2.0</td>\n",
       "      <td>NaN</td>\n",
       "      <td>506.0</td>\n",
       "      <td>507.0</td>\n",
       "      <td>514.0</td>\n",
       "      <td>NaN</td>\n",
       "      <td>NaN</td>\n",
       "      <td>NaN</td>\n",
       "      <td>2.0</td>\n",
       "      <td>2.0</td>\n",
       "      <td>24.62</td>\n",
       "      <td>1.0</td>\n",
       "      <td>1.0</td>\n",
       "    </tr>\n",
       "    <tr>\n",
       "      <th>4</th>\n",
       "      <td>51.7</td>\n",
       "      <td>9968.0</td>\n",
       "      <td>24.62</td>\n",
       "      <td>2.0</td>\n",
       "      <td>84.0</td>\n",
       "      <td>3.0</td>\n",
       "      <td>2.0</td>\n",
       "      <td>NaN</td>\n",
       "      <td>1034.0</td>\n",
       "      <td>NaN</td>\n",
       "      <td>NaN</td>\n",
       "      <td>NaN</td>\n",
       "      <td>NaN</td>\n",
       "      <td>NaN</td>\n",
       "      <td>2.0</td>\n",
       "      <td>2.0</td>\n",
       "      <td>24.62</td>\n",
       "      <td>1.0</td>\n",
       "      <td>1.0</td>\n",
       "    </tr>\n",
       "  </tbody>\n",
       "</table>\n",
       "</div>"
      ],
      "text/plain": [
       "   BMXWT    SEQN  BMXBMI  RIAGENDR  RIDAGEYR  RIDRETH1  DIQ010  SSTESTO  \\\n",
       "0   91.7  9966.0   30.22       1.0      39.0       3.0     2.0     4.38   \n",
       "1   84.0  9967.0   29.98       1.0      23.0       4.0     2.0      NaN   \n",
       "2   51.7  9968.0   24.62       2.0      84.0       3.0     2.0      NaN   \n",
       "3   51.7  9968.0   24.62       2.0      84.0       3.0     2.0      NaN   \n",
       "4   51.7  9968.0   24.62       2.0      84.0       3.0     2.0      NaN   \n",
       "\n",
       "   FDACODE1  FDACODE2  FDACODE3  FDACODE4  FDACODE5  FDACODE6  PAD320  PAD480  \\\n",
       "0       NaN       NaN       NaN       NaN       NaN       NaN     1.0     2.0   \n",
       "1       NaN       NaN       NaN       NaN       NaN       NaN     2.0     0.0   \n",
       "2    1720.0    1721.0       NaN       NaN       NaN       NaN     2.0     2.0   \n",
       "3     506.0     507.0     514.0       NaN       NaN       NaN     2.0     2.0   \n",
       "4    1034.0       NaN       NaN       NaN       NaN       NaN     2.0     2.0   \n",
       "\n",
       "   BMXBMI  SMQ020  ALD100  \n",
       "0   30.22     1.0     1.0  \n",
       "1   29.98     2.0     1.0  \n",
       "2   24.62     1.0     1.0  \n",
       "3   24.62     1.0     1.0  \n",
       "4   24.62     1.0     1.0  "
      ]
     },
     "execution_count": 83,
     "metadata": {},
     "output_type": "execute_result"
    }
   ],
   "source": [
    "# create interviewee info data\n",
    "info_dataset = pd.merge(dataset_demo, dateset_bmx, on='SEQN', how='left')\n",
    "info_dataset = pd.merge(info_dataset, dataset_fda, on='SEQN', how='left')\n",
    "info_dataset = pd.merge(info_dataset, dataset_sst, on='SEQN', how='left')\n",
    "info_dataset = pd.merge(info_dataset, dataset_diq, on='SEQN', how='left')\n",
    "info_dataset = pd.merge(info_dataset, dataset_ald, on='SEQN', how='left')\n",
    "info_dataset = pd.merge(info_dataset, dataset_smoke, on='SEQN', how='left')\n",
    "info_dataset = pd.merge(info_dataset, dataset_sports, on='SEQN', how='left')\n",
    "\n",
    "info_dataset = info_dataset.loc[:, ['BMXWT', 'SEQN', 'BMXBMI', 'RIAGENDR', 'RIDAGEYR',\n",
    "                                    'RIDRETH1', 'DIQ010', 'SSTESTO', 'FDACODE1', 'FDACODE2',\n",
    "                                    'FDACODE3', 'FDACODE4', 'FDACODE5', 'FDACODE6', 'PAD320',\n",
    "                                    'PAD480', 'SMQ020', 'ALD100']]\n",
    "\n",
    "info_dataset.head(5)"
   ]
  },
  {
   "cell_type": "code",
   "execution_count": 84,
   "metadata": {},
   "outputs": [
    {
     "name": "stdout",
     "output_type": "stream",
     "text": [
      "Int64Index([    2,     3,     4,     5,     7,     9,    10,    11,    12,\n",
      "               13,\n",
      "            ...\n",
      "            18398, 18399, 18400, 18401, 18402, 18403, 18404, 18405, 18409,\n",
      "            18413],\n",
      "           dtype='int64', length=9867) deleted\n",
      "Int64Index([   15,    24,    25,    31,    54,    57,    61,    63,    95,\n",
      "               97,\n",
      "            ...\n",
      "            18319, 18325, 18342, 18348, 18349, 18352, 18406, 18408, 18411,\n",
      "            18416],\n",
      "           dtype='int64', length=2142) deleted\n",
      "Int64Index([  917,  1550,  2044,  4210,  4371,  5397,  5630,  5653,  6278,\n",
      "             6409,  7186,  8489,  9038,  9229, 10165, 10859, 11149, 11168,\n",
      "            11437, 11597, 12715, 13424, 13692, 13705, 14096, 14276, 14388,\n",
      "            14392, 16674, 17984, 18044],\n",
      "           dtype='int64') deleted\n",
      "Int64Index([5152], dtype='int64') deleted\n",
      "Int64Index([], dtype='int64') deleted\n",
      "Int64Index([7112, 7935, 8776, 9285, 10932, 11234, 14785, 16574, 17013], dtype='int64') deleted\n",
      "Int64Index([], dtype='int64') deleted\n",
      "Int64Index([  345,   421,   423,   535,  1012,  1014,  1015,  1016,  1017,\n",
      "             1430,\n",
      "            ...\n",
      "            16479, 16480, 16623, 16626, 16629, 17322, 17384, 17598, 17599,\n",
      "            18032],\n",
      "           dtype='int64', length=146) deleted\n",
      "Int64Index([   55,    56,    58,    59,    60,    62,   210,   211,   212,\n",
      "              213,\n",
      "            ...\n",
      "            18257, 18258, 18291, 18292, 18296, 18297, 18312, 18313, 18318,\n",
      "            18412],\n",
      "           dtype='int64', length=606) deleted\n",
      "Int64Index([1429, 7161, 10739], dtype='int64') deleted\n",
      "Int64Index([1214], dtype='int64') deleted\n",
      "Int64Index([13742, 16902, 16903, 16904, 17436], dtype='int64') deleted\n",
      "Int64Index([], dtype='int64') deleted\n"
     ]
    }
   ],
   "source": [
    "# preprocess info dataset\n",
    "drop_index = info_dataset[info_dataset['RIAGENDR'] == 2].index\n",
    "print(drop_index, 'deleted')\n",
    "info_dataset.drop(drop_index, inplace=True)\n",
    "info_dataset = info_dataset.drop(columns=['RIAGENDR'])\n",
    "\n",
    "for idx in ['FDACODE1', 'FDACODE2','FDACODE3', 'FDACODE4', 'FDACODE5', 'FDACODE6']:\n",
    "    drop_index = info_dataset[((info_dataset[idx] > 500) & (info_dataset[idx] < 700))\n",
    "                              | (info_dataset[idx] == 912)].index\n",
    "    print(drop_index, 'deleted')\n",
    "    info_dataset.drop(drop_index, inplace=True)\n",
    "    info_dataset = info_dataset.drop(columns=[idx])\n",
    "\n",
    "drop_index = info_dataset[info_dataset['SSTESTO'] < 3].index\n",
    "print(drop_index, 'deleted')\n",
    "info_dataset.drop(drop_index, inplace=True)\n",
    "info_dataset = info_dataset.drop(columns=['SSTESTO'])\n",
    "\n",
    "drop_index = info_dataset[info_dataset['DIQ010'].isin([1,7,9])].index\n",
    "print(drop_index, 'deleted')\n",
    "info_dataset.drop(drop_index, inplace=True)\n",
    "info_dataset = info_dataset.drop(columns=['DIQ010'])\n",
    "\n",
    "drop_index = info_dataset[info_dataset['PAD320'].isin([7,9])].index\n",
    "print(drop_index, 'deleted')\n",
    "info_dataset.drop(drop_index, inplace=True)\n",
    "info_dataset = info_dataset.drop(columns=['PAD320'])\n",
    "\n",
    "drop_index = info_dataset[info_dataset['PAD480'].isin([77,99])].index\n",
    "print(drop_index, 'deleted')\n",
    "info_dataset.drop(drop_index, inplace=True)\n",
    "info_dataset = info_dataset.drop(columns=['PAD480'])\n",
    "\n",
    "drop_index = info_dataset[info_dataset['SMQ020'].isin([7,9])].index\n",
    "print(drop_index, 'deleted')\n",
    "info_dataset.drop(drop_index, inplace=True)\n",
    "info_dataset = info_dataset.drop(columns=['SMQ020'])\n",
    "\n",
    "drop_index = info_dataset[info_dataset['ALD100'].isin([7,9])].index\n",
    "print(drop_index, 'deleted')\n",
    "info_dataset.drop(drop_index, inplace=True)\n",
    "info_dataset = info_dataset.drop(columns=['ALD100'])\n"
   ]
  },
  {
   "cell_type": "markdown",
   "metadata": {
    "_uuid": "3e1de0c39fc28f086a5e8377cc5fbdbf91d377b3"
   },
   "source": [
    "#### Merge datasets and remove SQEN col, reset index, drop unused cols"
   ]
  },
  {
   "cell_type": "code",
   "execution_count": 85,
   "metadata": {
    "_uuid": "87ebcc578e5959fe9a9c9a538c73122183454459"
   },
   "outputs": [],
   "source": [
    "merged_dataset = pd.merge(dataset_ed, dataset_b12, on='SEQN', how='left')\n",
    "merged_dataset = merged_dataset.loc[:, ['KIQ400', 'LBDFOLSI', 'LBDB12SI', 'SEQN']]\n",
    "merged_dataset = pd.merge(info_dataset, merged_dataset, on='SEQN', how='left')\n",
    "merged_dataset = pd.merge(merged_dataset, dataset_d, on='SEQN', how='left')\n",
    "merged_dataset = merged_dataset.drop(columns=['SEQN'])"
   ]
  },
  {
   "cell_type": "code",
   "execution_count": 86,
   "metadata": {
    "_uuid": "5132eb43114bf99d5f857f459d0c9d2faffc9644"
   },
   "outputs": [
    {
     "name": "stdout",
     "output_type": "stream",
     "text": [
      "      BMXWT  BMXBMI  RIDAGEYR  RIDRETH1  BMXBMI  KIQ400  LBDFOLSI  LBDB12SI  \\\n",
      "0      91.7   30.22      39.0       3.0   30.22     1.0      22.4    305.53   \n",
      "1      84.0   29.98      23.0       4.0   29.98     1.0      39.4    687.82   \n",
      "2     139.1   39.23      16.0       2.0   39.23     NaN       NaN       NaN   \n",
      "3     101.5   33.84      44.0       3.0   33.84     1.0      43.3    341.69   \n",
      "4      74.5   25.18      13.0       4.0   25.18     NaN       NaN       NaN   \n",
      "...     ...     ...       ...       ...     ...     ...       ...       ...   \n",
      "5602    NaN     NaN      77.0       3.0     NaN     2.0      42.6    481.18   \n",
      "5603   57.3   28.66      11.0       4.0   28.66     NaN       NaN       NaN   \n",
      "5604   10.0     NaN       0.0       3.0     NaN     NaN       NaN       NaN   \n",
      "5605   37.7   20.84      10.0       5.0   20.84     NaN       NaN       NaN   \n",
      "5606   72.9   25.05      31.0       2.0   25.05     1.0      23.6    312.91   \n",
      "\n",
      "      LBDVIDMS  \n",
      "0         70.6  \n",
      "1         51.6  \n",
      "2          NaN  \n",
      "3         70.6  \n",
      "4         44.4  \n",
      "...        ...  \n",
      "5602      75.4  \n",
      "5603      53.9  \n",
      "5604       NaN  \n",
      "5605      49.2  \n",
      "5606      96.7  \n",
      "\n",
      "[5607 rows x 9 columns]\n"
     ]
    }
   ],
   "source": [
    "print(merged_dataset)"
   ]
  },
  {
   "cell_type": "markdown",
   "metadata": {
    "_uuid": "1113236bec2848d33c5bfe088ff0d03246b8b7ce"
   },
   "source": [
    "#### Delete rows including na"
   ]
  },
  {
   "cell_type": "code",
   "execution_count": 87,
   "metadata": {
    "_uuid": "c31619815cb0dae5586985671fdc21110b39a821"
   },
   "outputs": [
    {
     "name": "stdout",
     "output_type": "stream",
     "text": [
      "      BMXWT  BMXBMI  RIDAGEYR  RIDRETH1  BMXBMI  KIQ400  LBDFOLSI  LBDB12SI  \\\n",
      "0      91.7   30.22      39.0       3.0   30.22     1.0      22.4    305.53   \n",
      "1      84.0   29.98      23.0       4.0   29.98     1.0      39.4    687.82   \n",
      "3     101.5   33.84      44.0       3.0   33.84     1.0      43.3    341.69   \n",
      "6      72.3   22.51      36.0       3.0   22.51     1.0      42.4    460.51   \n",
      "11     57.3   22.33      60.0       5.0   22.33     2.0      52.5    474.53   \n",
      "...     ...     ...       ...       ...     ...     ...       ...       ...   \n",
      "5596   80.5   24.87      43.0       4.0   24.87     1.0      27.4    295.20   \n",
      "5597   85.8   25.43      44.0       3.0   25.43     1.0      29.2    442.06   \n",
      "5598   84.7   27.44      40.0       4.0   27.44     1.0      19.0    370.48   \n",
      "5601   64.5   25.94      32.0       1.0   25.94     2.0      16.1    366.79   \n",
      "5606   72.9   25.05      31.0       2.0   25.05     1.0      23.6    312.91   \n",
      "\n",
      "      LBDVIDMS  \n",
      "0         70.6  \n",
      "1         51.6  \n",
      "3         70.6  \n",
      "6         39.7  \n",
      "11        56.3  \n",
      "...        ...  \n",
      "5596      75.4  \n",
      "5597      42.0  \n",
      "5598      53.9  \n",
      "5601      51.6  \n",
      "5606      96.7  \n",
      "\n",
      "[2000 rows x 9 columns]\n"
     ]
    }
   ],
   "source": [
    "merged_dataset = merged_dataset.dropna()\n",
    "print(merged_dataset)"
   ]
  },
  {
   "cell_type": "markdown",
   "metadata": {},
   "source": [
    "#### Delete incorrect data"
   ]
  },
  {
   "cell_type": "code",
   "execution_count": 89,
   "metadata": {},
   "outputs": [
    {
     "name": "stdout",
     "output_type": "stream",
     "text": [
      "Int64Index([], dtype='int64') deleted.\n",
      "Int64Index([], dtype='int64') deleted\n",
      "Int64Index([], dtype='int64') deleted\n",
      "      BMXWT  BMXBMI  RIDAGEYR  RIDRETH1  BMXBMI  KIQ400  LBDFOLSI  LBDB12SI  \\\n",
      "0      91.7   30.22      39.0       3.0   30.22     1.0      22.4    305.53   \n",
      "1      84.0   29.98      23.0       4.0   29.98     1.0      39.4    687.82   \n",
      "2     101.5   33.84      44.0       3.0   33.84     1.0      43.3    341.69   \n",
      "3      72.3   22.51      36.0       3.0   22.51     1.0      42.4    460.51   \n",
      "4      57.3   22.33      60.0       5.0   22.33     2.0      52.5    474.53   \n",
      "...     ...     ...       ...       ...     ...     ...       ...       ...   \n",
      "1965   80.5   24.87      43.0       4.0   24.87     1.0      27.4    295.20   \n",
      "1966   85.8   25.43      44.0       3.0   25.43     1.0      29.2    442.06   \n",
      "1967   84.7   27.44      40.0       4.0   27.44     1.0      19.0    370.48   \n",
      "1968   64.5   25.94      32.0       1.0   25.94     2.0      16.1    366.79   \n",
      "1969   72.9   25.05      31.0       2.0   25.05     1.0      23.6    312.91   \n",
      "\n",
      "      LBDVIDMS  \n",
      "0         70.6  \n",
      "1         51.6  \n",
      "2         70.6  \n",
      "3         39.7  \n",
      "4         56.3  \n",
      "...        ...  \n",
      "1965      75.4  \n",
      "1966      42.0  \n",
      "1967      53.9  \n",
      "1968      51.6  \n",
      "1969      96.7  \n",
      "\n",
      "[1970 rows x 9 columns]\n"
     ]
    }
   ],
   "source": [
    "drop_index = merged_dataset[merged_dataset['KIQ400'].isin([7, 9])].index\n",
    "print(drop_index, 'deleted.')\n",
    "merged_dataset.drop(drop_index, inplace=True)\n",
    "\n",
    "drop_index = merged_dataset[merged_dataset['LBDB12SI'] > 5000].index\n",
    "print(drop_index, 'deleted')\n",
    "merged_dataset.drop(drop_index, inplace=True)\n",
    "\n",
    "drop_index = merged_dataset[merged_dataset['LBDFOLSI'] > 500].index\n",
    "print(drop_index, 'deleted')\n",
    "merged_dataset.drop(drop_index, inplace=True)\n",
    "\n",
    "merged_dataset = merged_dataset.reset_index(drop=True)\n",
    "\n",
    "print(merged_dataset)"
   ]
  },
  {
   "cell_type": "markdown",
   "metadata": {
    "_uuid": "99d7182ca186d37f63b1fc433fe74ad5e2bc7d2f"
   },
   "source": [
    "#### Analysing the target KIQ400"
   ]
  },
  {
   "cell_type": "code",
   "execution_count": 90,
   "metadata": {
    "_uuid": "5593d1021d54aad598c21f877e57969e6b47f5a8"
   },
   "outputs": [],
   "source": [
    "KIQ400 = merged_dataset['KIQ400']"
   ]
  },
  {
   "cell_type": "markdown",
   "metadata": {
    "_uuid": "6a970312b67b588610a8579ecc2ba4bac0fcee04"
   },
   "source": [
    "#### Check correlation between columns"
   ]
  },
  {
   "cell_type": "code",
   "execution_count": 91,
   "metadata": {
    "_uuid": "b883243919bd382193ed15e2a90f9b522bf6f1f7"
   },
   "outputs": [
    {
     "name": "stdout",
     "output_type": "stream",
     "text": [
      "             BMXWT       BMXBMI     RIDAGEYR     RIDRETH1       BMXBMI  \\\n",
      "count  1970.000000  1970.000000  1970.000000  1970.000000  1970.000000   \n",
      "mean     85.511117    27.796964    48.803046     2.785279    27.796964   \n",
      "std      19.300721     5.655188    18.034975     1.014414     5.655188   \n",
      "min      45.300000    16.160000    20.000000     1.000000    16.160000   \n",
      "25%      72.700000    24.315000    34.000000     3.000000    24.315000   \n",
      "50%      82.800000    27.140000    47.000000     3.000000    27.140000   \n",
      "75%      94.200000    29.980000    63.000000     3.000000    29.980000   \n",
      "max     171.300000    64.160000    85.000000     5.000000    64.160000   \n",
      "\n",
      "            KIQ400     LBDFOLSI     LBDB12SI     LBDVIDMS  \n",
      "count  1970.000000  1970.000000  1970.000000  1970.000000  \n",
      "mean      1.768528    32.085685   368.191792    59.066345  \n",
      "std       0.991700    32.928056   182.103762    19.439703  \n",
      "min       1.000000     2.500000    46.490000    13.600000  \n",
      "25%       1.000000    19.900000   256.820000    44.400000  \n",
      "50%       1.000000    26.700000   333.210000    58.700000  \n",
      "75%       2.000000    36.500000   436.900000    70.600000  \n",
      "max       4.000000   417.900000  2028.760000   144.000000  \n"
     ]
    }
   ],
   "source": [
    "print(merged_dataset.describe())"
   ]
  },
  {
   "cell_type": "markdown",
   "metadata": {
    "_uuid": "40b6c0a9d03bcab78b87bd41c7df3fe1b930547a"
   },
   "source": [
    "## Exploratory Data Analysis (EDA)"
   ]
  },
  {
   "cell_type": "markdown",
   "metadata": {
    "_uuid": "41da6ba94903ad6ee64b1ba6a1462815ae603536"
   },
   "source": [
    "### First, analysing the target variable:"
   ]
  },
  {
   "cell_type": "code",
   "execution_count": 92,
   "metadata": {
    "_uuid": "29aa23ccb8e6438688e16346b3474f4cc03bae13"
   },
   "outputs": [
    {
     "name": "stdout",
     "output_type": "stream",
     "text": [
      "KIQ400      1.000000\n",
      "RIDAGEYR    0.572130\n",
      "LBDFOLSI    0.147510\n",
      "LBDVIDMS    0.048957\n",
      "BMXBMI      0.040230\n",
      "BMXBMI      0.040230\n",
      "RIDRETH1    0.022257\n",
      "BMXWT       0.019588\n",
      "LBDB12SI    0.007139\n",
      "Name: KIQ400, dtype: float64\n"
     ]
    },
    {
     "data": {
      "text/plain": [
       "<Axes: xlabel='None'>"
      ]
     },
     "execution_count": 92,
     "metadata": {},
     "output_type": "execute_result"
    },
    {
     "data": {
      "image/png": "[encoded data removed]",
      "text/plain": [
       "<Figure size 1500x800 with 1 Axes>"
      ]
     },
     "metadata": {},
     "output_type": "display_data"
    }
   ],
   "source": [
    "print(merged_dataset.corr()['KIQ400'].abs().sort_values(ascending=False))\n",
    "\n",
    "value_counts = KIQ400.value_counts().sort_index()\n",
    "\n",
    "sns.barplot(x=value_counts.index, y=value_counts.values, orient='h')\n",
    "\n",
    "# plt.xticks([0, 1, 2, 3, 4])\n",
    "# plt.xlabel('KIQ400 level')\n",
    "# plt.ylabel('Count')\n",
    "# plt.title('KIQ400 level Count')\n",
    "# plt.show()"
   ]
  },
  {
   "cell_type": "markdown",
   "metadata": {
    "_uuid": "82f9919a1312b53f22980a0071d077e5b0288d90"
   },
   "source": [
    "### Analysing the all features"
   ]
  },
  {
   "cell_type": "code",
   "execution_count": 93,
   "metadata": {
    "_uuid": "07a3fb2f44b82360d0393377029851655bcdcd31"
   },
   "outputs": [
    {
     "data": {
      "image/png": "[encoded data removed]",
      "text/plain": [
       "<Figure size 1400x1400 with 2 Axes>"
      ]
     },
     "metadata": {},
     "output_type": "display_data"
    }
   ],
   "source": [
    "rcParams['figure.figsize'] = 20, 14\n",
    "plt.matshow(merged_dataset.corr())\n",
    "plt.yticks(np.arange(merged_dataset.shape[1]), merged_dataset.columns)\n",
    "plt.xticks(np.arange(merged_dataset.shape[1]), merged_dataset.columns)\n",
    "plt.colorbar()\n",
    "plt.show()"
   ]
  },
  {
   "cell_type": "markdown",
   "metadata": {
    "_uuid": "d1c95f2180e264978c85703ece34898dab4d522b"
   },
   "source": [
    "## IV. Train Test split"
   ]
  },
  {
   "cell_type": "code",
   "execution_count": 94,
   "metadata": {
    "_uuid": "829fcda5b63e1b9f7ecb7762e8ca617166533aca"
   },
   "outputs": [
    {
     "name": "stdout",
     "output_type": "stream",
     "text": [
      "(1576, 8) (394, 8) (1576,) (394,)\n"
     ]
    }
   ],
   "source": [
    "predictors = merged_dataset.drop(\"KIQ400\", axis=1)\n",
    "# normalization\n",
    "# for col in predictors.columns:\n",
    "#     predictors[col] = (predictors[col] - predictors[col].min()) / (predictors[col].max() - predictors[col].min())\n",
    "\n",
    "# print(predictors)\n",
    "target = merged_dataset[\"KIQ400\"]\n",
    "\n",
    "X_train, X_test, Y_train, Y_test = train_test_split(predictors, target, test_size=0.20, random_state=32)\n",
    "\n",
    "scaler = StandardScaler()\n",
    "X_train = scaler.fit_transform(X_train)\n",
    "X_test = scaler.transform(X_test)\n",
    "print(X_train.shape, X_test.shape, Y_train.shape, Y_test.shape)"
   ]
  },
  {
   "cell_type": "markdown",
   "metadata": {
    "_uuid": "3b4f28488a92917f26e9876c1880295ec9c077ed"
   },
   "source": [
    "## V. Model Fitting"
   ]
  },
  {
   "cell_type": "markdown",
   "metadata": {
    "_uuid": "afa6b322cbc225f3353bd295aea24fe5fbbb78fe"
   },
   "source": [
    "### Logistic Regression"
   ]
  },
  {
   "cell_type": "code",
   "execution_count": 95,
   "metadata": {
    "_uuid": "9aea2f597203ccf38cd0d67ae58bff6e163dea1c"
   },
   "outputs": [],
   "source": [
    "from sklearn.linear_model import LogisticRegression\n",
    "\n",
    "lr = LogisticRegression()\n",
    "\n",
    "lr.fit(X_train,Y_train)\n",
    "\n",
    "Y_pred_lr = lr.predict(X_test)"
   ]
  },
  {
   "cell_type": "code",
   "execution_count": 96,
   "metadata": {
    "_uuid": "58fb833d1c74355ebdafe926968632942f377421"
   },
   "outputs": [
    {
     "data": {
      "text/plain": [
       "(394,)"
      ]
     },
     "execution_count": 96,
     "metadata": {},
     "output_type": "execute_result"
    }
   ],
   "source": [
    "Y_pred_lr.shape"
   ]
  },
  {
   "cell_type": "code",
   "execution_count": 97,
   "metadata": {
    "_uuid": "ee4cba838316adf863f8daf131d36a970d36b839"
   },
   "outputs": [
    {
     "name": "stdout",
     "output_type": "stream",
     "text": [
      "The accuracy score achieved using Logistic Regression is: 65.48 %\n"
     ]
    }
   ],
   "source": [
    "score_lr = round(accuracy_score(Y_pred_lr,Y_test)*100,2)\n",
    "\n",
    "print(\"The accuracy score achieved using Logistic Regression is: \"+str(score_lr)+\" %\")"
   ]
  },
  {
   "cell_type": "markdown",
   "metadata": {
    "_uuid": "4f92fceb9584ae03d3ab370ee11899cb287be690"
   },
   "source": [
    "### Naive Bayes"
   ]
  },
  {
   "cell_type": "code",
   "execution_count": 98,
   "metadata": {
    "_uuid": "ffcdab99b4108902547f0179a242a9757078dc68"
   },
   "outputs": [],
   "source": [
    "from sklearn.naive_bayes import GaussianNB\n",
    "\n",
    "nb = GaussianNB()\n",
    "\n",
    "nb.fit(X_train,Y_train)\n",
    "\n",
    "Y_pred_nb = nb.predict(X_test)"
   ]
  },
  {
   "cell_type": "code",
   "execution_count": 99,
   "metadata": {
    "_uuid": "9109059d06e4c92494451b3cdab0bbb5a1816072"
   },
   "outputs": [
    {
     "data": {
      "text/plain": [
       "(394,)"
      ]
     },
     "execution_count": 99,
     "metadata": {},
     "output_type": "execute_result"
    }
   ],
   "source": [
    "Y_pred_nb.shape"
   ]
  },
  {
   "cell_type": "code",
   "execution_count": 100,
   "metadata": {
    "_uuid": "e8f8f55db061ada0b669ffa46e9ecc745fcda1ae"
   },
   "outputs": [
    {
     "name": "stdout",
     "output_type": "stream",
     "text": [
      "The accuracy score achieved using Naive Bayes is: 65.23 %\n"
     ]
    }
   ],
   "source": [
    "score_nb = round(accuracy_score(Y_pred_nb,Y_test)*100,2)\n",
    "\n",
    "print(\"The accuracy score achieved using Naive Bayes is: \"+str(score_nb)+\" %\")"
   ]
  },
  {
   "cell_type": "markdown",
   "metadata": {
    "_uuid": "2af8b010893284bae0d6cccf66ccfda646e7ca58"
   },
   "source": [
    "### SVM"
   ]
  },
  {
   "cell_type": "code",
   "execution_count": 101,
   "metadata": {
    "_uuid": "f1936ece7b76b67e552758a4c80e9421bffe0bc2"
   },
   "outputs": [],
   "source": [
    "from sklearn import svm\n",
    "\n",
    "sv = svm.SVC(kernel='linear')\n",
    "\n",
    "sv.fit(X_train, Y_train)\n",
    "\n",
    "Y_pred_svm = sv.predict(X_test)"
   ]
  },
  {
   "cell_type": "code",
   "execution_count": 102,
   "metadata": {
    "_uuid": "36f60f104264d44760705b9c802504f426e15592"
   },
   "outputs": [
    {
     "data": {
      "text/plain": [
       "(394,)"
      ]
     },
     "execution_count": 102,
     "metadata": {},
     "output_type": "execute_result"
    }
   ],
   "source": [
    "Y_pred_svm.shape"
   ]
  },
  {
   "cell_type": "code",
   "execution_count": 103,
   "metadata": {
    "_uuid": "f5a73bca6721f42b3983c328fd475390ba9bc4d3"
   },
   "outputs": [
    {
     "name": "stdout",
     "output_type": "stream",
     "text": [
      "The accuracy score achieved using Linear SVM is: 66.24 %\n"
     ]
    }
   ],
   "source": [
    "score_svm = round(accuracy_score(Y_pred_svm,Y_test)*100,2)\n",
    "\n",
    "print(\"The accuracy score achieved using Linear SVM is: \"+str(score_svm)+\" %\")"
   ]
  },
  {
   "cell_type": "markdown",
   "metadata": {
    "_uuid": "4e26d165b57f3f7882570964f1c2dc4a548404de"
   },
   "source": [
    "### K Nearest Neighbors"
   ]
  },
  {
   "cell_type": "code",
   "execution_count": 104,
   "metadata": {
    "_uuid": "286352867c53d5fb7dac2fc9bf4b2ac58a466ad0"
   },
   "outputs": [],
   "source": [
    "from sklearn.neighbors import KNeighborsClassifier\n",
    "\n",
    "knn = KNeighborsClassifier(n_neighbors=7)\n",
    "knn.fit(X_train,Y_train)\n",
    "Y_pred_knn=knn.predict(X_test)"
   ]
  },
  {
   "cell_type": "code",
   "execution_count": 105,
   "metadata": {
    "_uuid": "bccb7c1fcec36dd2eb7eb222f49604029adec2b4"
   },
   "outputs": [
    {
     "data": {
      "text/plain": [
       "(394,)"
      ]
     },
     "execution_count": 105,
     "metadata": {},
     "output_type": "execute_result"
    }
   ],
   "source": [
    "Y_pred_knn.shape"
   ]
  },
  {
   "cell_type": "code",
   "execution_count": 106,
   "metadata": {
    "_uuid": "dda4e8f8f18f96557cdd38cee177de0456db5f45"
   },
   "outputs": [
    {
     "name": "stdout",
     "output_type": "stream",
     "text": [
      "The accuracy score achieved using KNN is: 69.54 %\n"
     ]
    }
   ],
   "source": [
    "score_knn = round(accuracy_score(Y_pred_knn,Y_test)*100,2)\n",
    "\n",
    "print(\"The accuracy score achieved using KNN is: \"+str(score_knn)+\" %\")"
   ]
  },
  {
   "cell_type": "markdown",
   "metadata": {
    "_uuid": "abb767170c662e4d9a8b240fd0fd7286ffb0b67f"
   },
   "source": [
    "### Decision Tree"
   ]
  },
  {
   "cell_type": "code",
   "execution_count": 107,
   "metadata": {
    "_uuid": "8c141316764dce80103d1879c9b17d853702a746"
   },
   "outputs": [
    {
     "name": "stdout",
     "output_type": "stream",
     "text": [
      "Progress:[▉▉▉▉▉▉▉▉▉▉] 100.0%\n",
      "\n",
      "max accuracy: 74.62\n",
      "best x: 0\n"
     ]
    }
   ],
   "source": [
    "from sklearn.tree import DecisionTreeClassifier\n",
    "\n",
    "max_accuracy = 0\n",
    "\n",
    "\n",
    "for x in range(1000):\n",
    "    show_progress(1000,x+1)\n",
    "    dt = DecisionTreeClassifier(random_state=x)\n",
    "    dt.fit(X_train,Y_train)\n",
    "    Y_pred_dt = dt.predict(X_test)\n",
    "    current_accuracy = round(accuracy_score(Y_pred_dt,Y_test)*100,2)\n",
    "    if(current_accuracy>max_accuracy):\n",
    "        max_accuracy = current_accuracy\n",
    "        best_x = x\n",
    "\n",
    "print('\\n')\n",
    "print('max accuracy:',max_accuracy)\n",
    "print('best x:',best_x)\n",
    "\n",
    "\n",
    "dt = DecisionTreeClassifier(random_state=best_x)\n",
    "dt.fit(X_train,Y_train)\n",
    "Y_pred_dt = dt.predict(X_test)"
   ]
  },
  {
   "cell_type": "code",
   "execution_count": 108,
   "metadata": {
    "_uuid": "8de0bd2d57abd24d3a97a5b020a24439eb106f2b"
   },
   "outputs": [
    {
     "name": "stdout",
     "output_type": "stream",
     "text": [
      "(394,)\n"
     ]
    }
   ],
   "source": [
    "print(Y_pred_dt.shape)"
   ]
  },
  {
   "cell_type": "code",
   "execution_count": 109,
   "metadata": {
    "_uuid": "52ab93482d3b53824e9bc2b3e4114c57253e0c5b"
   },
   "outputs": [
    {
     "name": "stdout",
     "output_type": "stream",
     "text": [
      "The accuracy score achieved using Decision Tree is: 74.62 %\n"
     ]
    }
   ],
   "source": [
    "score_dt = round(accuracy_score(Y_pred_dt,Y_test)*100,2)\n",
    "\n",
    "print(\"The accuracy score achieved using Decision Tree is: \"+str(score_dt)+\" %\")"
   ]
  },
  {
   "cell_type": "markdown",
   "metadata": {},
   "source": [
    "### Random Forest"
   ]
  },
  {
   "cell_type": "code",
   "execution_count": 110,
   "metadata": {},
   "outputs": [
    {
     "name": "stdout",
     "output_type": "stream",
     "text": [
      "Progress:[▉▉▉▉▉▉▉▉▉▉] 100.0%\n",
      "\n",
      "max accuracy: 83.25\n",
      "best x: 262\n"
     ]
    }
   ],
   "source": [
    "from sklearn.ensemble import RandomForestClassifier\n",
    "\n",
    "max_accuracy = 0\n",
    "\n",
    "\n",
    "for x in range(1000):\n",
    "    show_progress(1000,x+1)\n",
    "    rf = RandomForestClassifier(random_state=x,n_jobs=-1)\n",
    "    rf.fit(X_train,Y_train)\n",
    "    Y_pred_rf = rf.predict(X_test)\n",
    "    current_accuracy = round(accuracy_score(Y_pred_rf,Y_test)*100,2)\n",
    "    if(current_accuracy>max_accuracy):\n",
    "        max_accuracy = current_accuracy\n",
    "        best_x = x\n",
    "        \n",
    "print('\\n')\n",
    "print('max accuracy:',max_accuracy)\n",
    "print('best x:',best_x)\n",
    "\n",
    "rf = RandomForestClassifier(random_state=best_x)\n",
    "rf.fit(X_train,Y_train)\n",
    "Y_pred_rf = rf.predict(X_test)"
   ]
  },
  {
   "cell_type": "code",
   "execution_count": 113,
   "metadata": {},
   "outputs": [
    {
     "data": {
      "text/plain": [
       "(394,)"
      ]
     },
     "execution_count": 113,
     "metadata": {},
     "output_type": "execute_result"
    }
   ],
   "source": [
    "Y_pred_rf.shape"
   ]
  },
  {
   "cell_type": "code",
   "execution_count": 114,
   "metadata": {},
   "outputs": [
    {
     "name": "stdout",
     "output_type": "stream",
     "text": [
      "The accuracy score achieved using Random Forest is: 83.25 %\n"
     ]
    }
   ],
   "source": [
    "score_rf = round(accuracy_score(Y_pred_rf,Y_test)*100,2)\n",
    "\n",
    "print(\"The accuracy score achieved using Random Forest is: \"+str(score_rf)+\" %\")"
   ]
  },
  {
   "cell_type": "markdown",
   "metadata": {
    "_uuid": "c634cd922d716d350f6db0244772260cc598dec4"
   },
   "source": [
    "## VI. Output final score"
   ]
  },
  {
   "cell_type": "code",
   "execution_count": 126,
   "metadata": {
    "_uuid": "101daa51242624c49bb8b3198d9d2c9f8f1c596e"
   },
   "outputs": [
    {
     "name": "stdout",
     "output_type": "stream",
     "text": [
      "The accuracy score achieved using Logistic Regression is: 65.48 %\n",
      "The accuracy score achieved using Naive Bayes is: 65.23 %\n",
      "The accuracy score achieved using SVM is: 66.24 %\n",
      "The accuracy score achieved using KNN is: 69.54 %\n",
      "The accuracy score achieved using Decision Tree is: 74.62 %\n",
      "The accuracy score achieved using Random Forest is: 83.25 %\n"
     ]
    }
   ],
   "source": [
    "scores = [score_lr,score_nb,score_svm,score_knn,score_dt,score_rf]\n",
    "algorithms = [\"Logistic Regression\",\"Naive Bayes\",\"SVM\",\"KNN\",\"Decision Tree\",\"Random Forest\"]    \n",
    "\n",
    "for i in range(len(algorithms)):\n",
    "    print(\"The accuracy score achieved using \"+algorithms[i]+\" is: \"+str(scores[i])+\" %\")"
   ]
  },
  {
   "cell_type": "code",
   "execution_count": 127,
   "metadata": {
    "_uuid": "8060c7d426f9f7b64772f37e0a74ededca16838d"
   },
   "outputs": [
    {
     "data": {
      "text/plain": [
       "<Axes: xlabel='Algorithms', ylabel='Accuracy score'>"
      ]
     },
     "execution_count": 127,
     "metadata": {},
     "output_type": "execute_result"
    },
    {
     "data": {
      "image/png": "[encoded data removed]",
      "text/plain": [
       "<Figure size 1500x800 with 1 Axes>"
      ]
     },
     "metadata": {},
     "output_type": "display_data"
    }
   ],
   "source": [
    "sns.set(rc={'figure.figsize':(15,8)})\n",
    "plt.xlabel(\"Algorithms\")\n",
    "plt.ylabel(\"Accuracy score\")\n",
    "\n",
    "sns.barplot(x=algorithms,y=scores)"
   ]
  },
  {
   "cell_type": "code",
   "execution_count": null,
   "metadata": {},
   "outputs": [],
   "source": []
  }
 ],
 "metadata": {
  "kernelspec": {
   "display_name": "Python 3 (ipykernel)",
   "language": "python",
   "name": "python3"
  },
  "language_info": {
   "codemirror_mode": {
    "name": "ipython",
    "version": 3
   },
   "file_extension": ".py",
   "mimetype": "text/x-python",
   "name": "python",
   "nbconvert_exporter": "python",
   "pygments_lexer": "ipython3",
   "version": "3.9.5"
  }
 },
 "nbformat": 4,
 "nbformat_minor": 4
}
