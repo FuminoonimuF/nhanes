{
 "cells": [
  {
   "cell_type": "markdown",
   "metadata": {
    "_uuid": "bbd660b62cc616efa33651beedc49b86045b784d"
   },
   "source": [
    "## <font size=5> <strong>Analysis about ED\n",
    " "
   ]
  },
  {
   "cell_type": "markdown",
   "metadata": {
    "_uuid": "e41ea25bec5928203cec544d0413fecd4b4e5555"
   },
   "source": [
    "## I. Importing essential libraries"
   ]
  },
  {
   "cell_type": "code",
   "execution_count": 1,
   "metadata": {
    "_uuid": "f571f7e57c828d45fe55f6136fe8c2e796f74d4e"
   },
   "outputs": [
    {
     "name": "stdout",
     "output_type": "stream",
     "text": [
      "WARNING:tensorflow:From c:\\users\\fumino\\miniconda3\\lib\\site-packages\\keras\\src\\losses.py:2976: The name tf.losses.sparse_softmax_cross_entropy is deprecated. Please use tf.compat.v1.losses.sparse_softmax_cross_entropy instead.\n",
      "\n"
     ]
    }
   ],
   "source": [
    "import numpy as np\n",
    "import pandas as pd\n",
    "import matplotlib.pyplot as plt\n",
    "from matplotlib import rcParams\n",
    "import seaborn as sns\n",
    "import os\n",
    "import warnings\n",
    "import sys\n",
    "import utils\n",
    "\n",
    "from sklearn.metrics import accuracy_score\n",
    "from sklearn.model_selection import train_test_split\n",
    "from sklearn.linear_model import LogisticRegression\n",
    "from sklearn.preprocessing import StandardScaler\n",
    "from keras.models import Sequential\n",
    "from keras.layers import Dense, LSTM, Input, Dropout, Embedding\n",
    "from keras.losses import CategoricalCrossentropy\n",
    "from keras.optimizers import SGD, Adam\n",
    "warnings.filterwarnings('ignore')\n"
   ]
  },
  {
   "cell_type": "markdown",
   "metadata": {
    "_uuid": "44e71221837f6fa60edc2c83b7492ddb019cc1cd"
   },
   "source": [
    "## II. Importing and understanding our dataset "
   ]
  },
  {
   "cell_type": "markdown",
   "metadata": {},
   "source": [
    "### Load and preprocess datasets"
   ]
  },
  {
   "cell_type": "code",
   "execution_count": 2,
   "metadata": {},
   "outputs": [
    {
     "name": "stdout",
     "output_type": "stream",
     "text": [
      "     SEQN  DMDMARTL  DMDEDUC  RIAGENDR  RIDAGEEX  RIDRETH1      WTMEC2YR  \\\n",
      "0  9966.0       3.0      3.0       1.0     473.0       3.0  91352.991726   \n",
      "1  9967.0       5.0      3.0       1.0     284.0       4.0  29456.680208   \n",
      "2  9968.0       2.0      1.0       2.0    1012.0       3.0  27508.137821   \n",
      "3  9969.0       1.0      3.0       2.0     612.0       3.0  78536.315892   \n",
      "4  9970.0       5.0      1.0       1.0     200.0       2.0  34059.984716   \n",
      "\n",
      "   SSTESTO  PAD320  PAD480  BMXBMI  SMQ020  ALQ101  DIQ010  BPQ040A  BPQ090D  \\\n",
      "0     4.38     1.0     2.0   30.22     1.0     1.0     2.0      NaN      2.0   \n",
      "1      NaN     2.0     0.0   29.98     2.0     1.0     2.0      NaN      NaN   \n",
      "2      NaN     2.0     2.0   24.62     1.0     1.0     2.0      1.0      NaN   \n",
      "3      NaN     2.0     2.0   22.26     2.0     1.0     2.0      NaN      NaN   \n",
      "4      NaN     1.0     3.0   39.23     NaN     NaN     2.0      NaN      NaN   \n",
      "\n",
      "   MCQ220  \n",
      "0     2.0  \n",
      "1     2.0  \n",
      "2     2.0  \n",
      "3     2.0  \n",
      "4     NaN  \n",
      "Int64Index([401, 2787, 4405, 4993], dtype='int64') deleted\n",
      "Int64Index([  568,  1270,  1658,  2285,  3166,  3285,  4707,  6485,  6586,\n",
      "             7319,  8122,  8979,  9619, 10014, 10095, 10905],\n",
      "           dtype='int64') deleted\n",
      "Int64Index([    2,     3,     5,     7,    14,    15,    17,    18,    19,\n",
      "               22,\n",
      "            ...\n",
      "            11015, 11018, 11019, 11021, 11023, 11026, 11028, 11029, 11031,\n",
      "            11034],\n",
      "           dtype='int64', length=5695) deleted\n",
      "Int64Index([  219,   276,   345,   453,   611,   863,  1035,  1055,  1152,\n",
      "             1166,  1251,  1327,  1464,  1548,  1584,  1679,  1820,  1952,\n",
      "             2030,  2098,  2298,  2417,  2438,  2537,  2590,  2651,  2674,\n",
      "             2841,  2846,  2959,  3059,  3281,  3296,  3316,  3515,  3740,\n",
      "             3801,  3838,  3962,  4001,  4258,  4496,  4507,  5035,  5314,\n",
      "             5332,  5365,  5385,  5414,  5669,  5878,  5963,  6325,  6360,\n",
      "             6380,  6420,  6465,  6608,  6617,  6690,  6706,  6842,  6883,\n",
      "             6932,  7125,  7161,  7208,  7443,  7540,  7756,  7759,  7762,\n",
      "             7899,  7905,  7957,  8572,  8661,  8710,  8743,  8869,  8879,\n",
      "             9021,  9157,  9225,  9382,  9732,  9860,  9872,  9945, 10341,\n",
      "            10388, 10530, 10790],\n",
      "           dtype='int64') deleted\n",
      "Int64Index([   38,   135,   140,   294,   311,   349,   355,   366,   382,\n",
      "              424,\n",
      "            ...\n",
      "            10827, 10874, 10879, 10919, 10923, 10930, 10952, 10953, 10967,\n",
      "            11033],\n",
      "           dtype='int64', length=245) deleted\n",
      "Int64Index([862, 4349], dtype='int64') deleted\n",
      "Int64Index([724], dtype='int64') deleted\n",
      "Int64Index([5507, 8251, 10428], dtype='int64') deleted\n",
      "Int64Index([], dtype='int64') deleted\n",
      "Int64Index([   63,   174,   239,   400,   460,   471,   620,   754,   893,\n",
      "              962,\n",
      "            ...\n",
      "            10371, 10378, 10380, 10524, 10560, 10586, 10657, 10902, 10961,\n",
      "            11030],\n",
      "           dtype='int64', length=205) deleted\n",
      "Int64Index([    6,    13,   114,   136,   167,   180,   261,   289,   296,\n",
      "              351,\n",
      "            ...\n",
      "            10638, 10640, 10702, 10730, 10779, 10780, 10795, 10884, 10904,\n",
      "            10951],\n",
      "           dtype='int64', length=340) deleted\n",
      "Int64Index([  104,   199,   206,   284,   307,   338,   346,   409,   412,\n",
      "              477,\n",
      "            ...\n",
      "            10379, 10392, 10538, 10716, 10732, 10760, 10791, 10809, 10852,\n",
      "            10993],\n",
      "           dtype='int64', length=111) deleted\n",
      "   KIQ400  LBDFOLSI  LBDB12SI    SEQN  LBDVIDMS  LBDCRYSI  LBDLUZSI\n",
      "0     1.0      22.4    305.53  9966.0      70.6     0.185     0.246\n",
      "1     1.0      39.4    687.82  9967.0      51.6     0.748     0.367\n",
      "2     1.0      43.3    341.69  9972.0      70.6     0.148     0.125\n",
      "3     1.0      42.4    460.51  9976.0      39.7     0.047     0.295\n",
      "4     2.0      52.5    474.53  9979.0      56.3     0.136     0.343\n",
      "      RIDAGEEX  RIDRETH1      WTMEC2YR  PAD320  PAD480  BMXBMI  SMQ020  \\\n",
      "0        473.0       3.0  45676.495863     1.0     2.0   30.22     1.0   \n",
      "1        284.0       4.0  14728.340104     2.0     0.0   29.98     2.0   \n",
      "2        200.0       2.0  17029.992358     1.0     3.0   39.23     NaN   \n",
      "3        158.0       4.0   2910.794552     NaN     NaN   25.18     NaN   \n",
      "4          NaN       3.0      0.000000     2.0     3.0     NaN     2.0   \n",
      "...        ...       ...           ...     ...     ...     ...     ...   \n",
      "4319     133.0       4.0   6374.290466     NaN     NaN   28.66     NaN   \n",
      "4320       9.0       3.0   7075.501832     NaN     NaN     NaN     NaN   \n",
      "4321     121.0       5.0  18538.695829     NaN     NaN   20.84     NaN   \n",
      "4322     116.0       4.0   3895.136326     NaN     NaN   14.98     NaN   \n",
      "4323     373.0       2.0  12861.879307     1.0     5.0   25.05     1.0   \n",
      "\n",
      "      ALQ101  KIQ400  LBDFOLSI  LBDB12SI  LBDVIDMS  LBDCRYSI  LBDLUZSI  \n",
      "0        1.0     1.0      22.4    305.53      70.6     0.185     0.246  \n",
      "1        1.0     1.0      39.4    687.82      51.6     0.748     0.367  \n",
      "2        NaN     NaN       NaN       NaN       NaN       NaN       NaN  \n",
      "3        NaN     NaN       NaN       NaN       NaN       NaN       NaN  \n",
      "4        NaN     NaN       NaN       NaN       NaN       NaN       NaN  \n",
      "...      ...     ...       ...       ...       ...       ...       ...  \n",
      "4319     NaN     NaN       NaN       NaN       NaN       NaN       NaN  \n",
      "4320     NaN     NaN       NaN       NaN       NaN       NaN       NaN  \n",
      "4321     NaN     NaN       NaN       NaN       NaN       NaN       NaN  \n",
      "4322     NaN     NaN       NaN       NaN       NaN       NaN       NaN  \n",
      "4323     1.0     1.0      23.6    312.91      96.7     0.136     0.389  \n",
      "\n",
      "[4324 rows x 14 columns]\n",
      "      RIDAGEEX  RIDRETH1      WTMEC2YR  PAD320  PAD480  BMXBMI  SMQ020  \\\n",
      "0        473.0       3.0  45676.495863     1.0     2.0   30.22     1.0   \n",
      "1        284.0       4.0  14728.340104     2.0     0.0   29.98     2.0   \n",
      "5        436.0       3.0  19093.905758     2.0     5.0   22.51     1.0   \n",
      "17       338.0       4.0  15443.766226     2.0     5.0   25.20     1.0   \n",
      "19       347.0       1.0  12654.060288     2.0     2.0   24.54     1.0   \n",
      "...        ...       ...           ...     ...     ...     ...     ...   \n",
      "4313     524.0       4.0  12852.221280     1.0     1.0   24.87     1.0   \n",
      "4314     533.0       3.0  38922.426641     1.0     1.0   25.43     1.0   \n",
      "4315     490.0       4.0  10486.724037     1.0     3.0   27.44     1.0   \n",
      "4318     391.0       1.0   7995.580235     2.0     0.0   25.94     1.0   \n",
      "4323     373.0       2.0  12861.879307     1.0     5.0   25.05     1.0   \n",
      "\n",
      "      ALQ101  KIQ400  LBDFOLSI  LBDB12SI  LBDVIDMS  LBDCRYSI  LBDLUZSI  \n",
      "0        1.0     1.0      22.4    305.53      70.6     0.185     0.246  \n",
      "1        1.0     1.0      39.4    687.82      51.6     0.748     0.367  \n",
      "5        1.0     1.0      42.4    460.51      39.7     0.047     0.295  \n",
      "17       1.0     1.0      23.8    205.90      39.7     0.056     0.141  \n",
      "19       1.0     2.0      12.9    202.21      58.7     0.366     0.315  \n",
      "...      ...     ...       ...       ...       ...       ...       ...  \n",
      "4313     1.0     1.0      27.4    295.20      75.4     0.098     0.211  \n",
      "4314     1.0     1.0      29.2    442.06      42.0     0.201     0.731  \n",
      "4315     1.0     1.0      19.0    370.48      53.9     0.038     0.283  \n",
      "4318     1.0     2.0      16.1    366.79      51.6     0.252     0.420  \n",
      "4323     1.0     1.0      23.6    312.91      96.7     0.136     0.389  \n",
      "\n",
      "[1227 rows x 14 columns]\n",
      "Int64Index([ 463,  569,  706,  996, 1417, 1434, 1825, 2227, 2798, 2942, 3241,\n",
      "            3824, 3832, 3872, 3876, 3882, 3944, 3976, 4195, 4252],\n",
      "           dtype='int64') deleted.\n",
      "Int64Index([1135, 2229, 3271], dtype='int64') deleted\n",
      "Int64Index([], dtype='int64') deleted\n",
      "   RIDAGEEX  RIDRETH1      WTMEC2YR  PAD320  PAD480  BMXBMI  SMQ020  ALQ101  \\\n",
      "0     473.0       3.0  45676.495863     1.0     2.0   30.22     1.0     1.0   \n",
      "1     284.0       4.0  14728.340104     2.0     0.0   29.98     2.0     1.0   \n",
      "2     436.0       3.0  19093.905758     2.0     5.0   22.51     1.0     1.0   \n",
      "3     338.0       4.0  15443.766226     2.0     5.0   25.20     1.0     1.0   \n",
      "4     347.0       1.0  12654.060288     2.0     2.0   24.54     1.0     1.0   \n",
      "\n",
      "   KIQ400  LBDFOLSI  LBDB12SI  LBDVIDMS  LBDCRYSI  LBDLUZSI  \n",
      "0     1.0      22.4    305.53      70.6     0.185     0.246  \n",
      "1     1.0      39.4    687.82      51.6     0.748     0.367  \n",
      "2     1.0      42.4    460.51      39.7     0.047     0.295  \n",
      "3     1.0      23.8    205.90      39.7     0.056     0.141  \n",
      "4     2.0      12.9    202.21      58.7     0.366     0.315  \n",
      "          RIDAGEEX     RIDRETH1      WTMEC2YR       PAD320       PAD480  \\\n",
      "count  1204.000000  1204.000000   1204.000000  1204.000000  1204.000000   \n",
      "mean    509.059801     2.664452  22978.881494     1.550664     2.503322   \n",
      "std     183.648933     1.116802  14973.541759     0.507557     1.581004   \n",
      "min     240.000000     1.000000    994.879331     1.000000     0.000000   \n",
      "25%     357.750000     1.000000  10057.969397     1.000000     1.000000   \n",
      "50%     488.000000     3.000000  16696.620934     2.000000     2.000000   \n",
      "75%     622.000000     3.000000  36648.875536     2.000000     4.000000   \n",
      "max    1013.000000     5.000000  60592.415461     3.000000     6.000000   \n",
      "\n",
      "            BMXBMI       SMQ020       ALQ101       KIQ400     LBDFOLSI  \\\n",
      "count  1204.000000  1204.000000  1204.000000  1204.000000  1204.000000   \n",
      "mean     27.147500     1.447674     1.153654     1.463455    27.066445   \n",
      "std       5.062351     0.497461     0.360767     0.795557    16.288334   \n",
      "min      16.160000     1.000000     1.000000     1.000000     2.500000   \n",
      "25%      23.900000     1.000000     1.000000     1.000000    18.600000   \n",
      "50%      26.605000     1.000000     1.000000     1.000000    24.700000   \n",
      "75%      29.612500     2.000000     1.000000     2.000000    32.800000   \n",
      "max      52.830000     2.000000     2.000000     4.000000   417.900000   \n",
      "\n",
      "          LBDB12SI     LBDVIDMS     LBDCRYSI     LBDLUZSI  \n",
      "count  1204.000000  1204.000000  1204.000000  1204.000000  \n",
      "mean    363.350341    59.514867     0.189187     0.283926  \n",
      "std     156.707156    19.816464     0.146920     0.142176  \n",
      "min      81.180000    13.600000     0.012000     0.030000  \n",
      "25%     266.235000    44.400000     0.091000     0.181000  \n",
      "50%     332.470000    58.700000     0.145000     0.254000  \n",
      "75%     432.837500    70.600000     0.241500     0.357000  \n",
      "max    1904.780000   144.000000     1.247000     1.057000  \n",
      "      SEQN  DMDMARTL  DMDEDUC  RIAGENDR  RIDAGEEX  RIDRETH1      WTMEC2YR  \\\n",
      "0  21005.0       5.0      1.0       1.0     233.0       4.0   5824.782465   \n",
      "1  21006.0       5.0      1.0       2.0     205.0       4.0   5564.039715   \n",
      "2  21007.0       5.0      1.0       2.0     172.0       3.0  40591.066325   \n",
      "3  21008.0       5.0      1.0       1.0     209.0       4.0   5696.750596   \n",
      "4  21009.0       1.0      2.0       1.0     672.0       3.0  97731.727244   \n",
      "\n",
      "   SSTESTO  PAD320  PAD480  BMXBMI  SMQ020  ALQ101  DIQ010  BPQ040A  BPQ090D  \\\n",
      "0      NaN     2.0     2.0   50.85     NaN     NaN     2.0      NaN      NaN   \n",
      "1      NaN     2.0     0.0   20.78     NaN     NaN     2.0      NaN      NaN   \n",
      "2      NaN     2.0     1.0   18.43     NaN     NaN     2.0      NaN      NaN   \n",
      "3      NaN     1.0     6.0   20.65     NaN     NaN     2.0      NaN      NaN   \n",
      "4      NaN     1.0     2.0   31.26     2.0     1.0     2.0      NaN      NaN   \n",
      "\n",
      "   MCQ220  \n",
      "0     NaN  \n",
      "1     NaN  \n",
      "2     NaN  \n",
      "3     NaN  \n",
      "4     2.0  \n",
      "Int64Index([], dtype='int64') deleted\n",
      "Int64Index([ 108,  945, 1315, 1707, 1823, 4033, 4398, 5954, 6072, 6104, 6324,\n",
      "            6398, 6546, 7669, 7997, 8955],\n",
      "           dtype='int64') deleted\n",
      "Int64Index([    1,     2,     5,     8,    12,    13,    14,    15,    16,\n",
      "               17,\n",
      "            ...\n",
      "            10105, 10109, 10110, 10111, 10112, 10113, 10115, 10116, 10117,\n",
      "            10118],\n",
      "           dtype='int64', length=5143) deleted\n",
      "Int64Index([   11,   271,   371,   511,   605,  1125,  1131,  1231,  1549,\n",
      "             1691,  1708,  1834,  1919,  1942,  1965,  1972,  2062,  2199,\n",
      "             2390,  2407,  2427,  2454,  2613,  2689,  2788,  2968,  3062,\n",
      "             3243,  3290,  3571,  3668,  3702,  3930,  3993,  4206,  4259,\n",
      "             4518,  4557,  4562,  4752,  4849,  4941,  4996,  5010,  5662,\n",
      "             5742,  5863,  5874,  5905,  5964,  6060,  6158,  6261,  6277,\n",
      "             6337,  6548,  6583,  6875,  6976,  7062,  7136,  7141,  7346,\n",
      "             7442,  7473,  7692,  7752,  7795,  8637,  8717,  8795,  8909,\n",
      "             9194,  9222,  9327,  9418,  9627,  9671,  9798,  9824,  9847,\n",
      "             9970, 10015, 10102],\n",
      "           dtype='int64') deleted\n",
      "Int64Index([   38,    94,    99,   107,   113,   119,   129,   138,   140,\n",
      "              194,\n",
      "            ...\n",
      "             9707,  9718,  9728,  9738,  9839,  9904, 10049, 10052, 10056,\n",
      "            10066],\n",
      "           dtype='int64', length=259) deleted\n",
      "Int64Index([], dtype='int64') deleted\n",
      "Int64Index([3179, 3198, 4753, 9119], dtype='int64') deleted\n",
      "Int64Index([9113, 9246], dtype='int64') deleted\n",
      "Int64Index([], dtype='int64') deleted\n",
      "Int64Index([   10,    53,   366,   427,   437,   551,   572,   710,   855,\n",
      "              860,\n",
      "            ...\n",
      "             9593,  9611,  9739,  9746,  9778,  9786,  9889,  9991, 10095,\n",
      "            10120],\n",
      "           dtype='int64', length=177) deleted\n",
      "Int64Index([   45,    58,    60,    73,   118,   127,   136,   148,   164,\n",
      "              178,\n",
      "            ...\n",
      "             9885,  9952,  9971, 10008, 10016, 10051, 10055, 10067, 10090,\n",
      "            10093],\n",
      "           dtype='int64', length=421) deleted\n",
      "Int64Index([  24,   46,   64,  133,  352,  479,  497,  615,  647,  694,\n",
      "            ...\n",
      "            9292, 9529, 9693, 9714, 9785, 9795, 9902, 9915, 9954, 9956],\n",
      "           dtype='int64', length=134) deleted\n",
      "   KIQ400  LBDFOLSI  LBDB12SI     SEQN  LBDVIDMS  LBDCRYSI  LBDLUZSI\n",
      "0     2.0      18.6    266.42  21009.0      72.9    0.1035    0.3535\n",
      "1     NaN      16.5    600.73  21012.0      45.9    0.0539    0.1846\n",
      "2     4.0      34.7    864.20  21015.0      36.0    0.0364    0.1206\n",
      "3     2.0      29.7    433.94  21029.0     127.0    0.0872    0.3043\n",
      "4     1.0      22.7    214.76  21034.0      94.9    0.0527    0.1667\n",
      "      RIDAGEEX  RIDRETH1      WTMEC2YR  PAD320  PAD480  BMXBMI  SMQ020  \\\n",
      "0        233.0       4.0   2912.391233     2.0     2.0   50.85     NaN   \n",
      "1        209.0       4.0   2848.375298     1.0     6.0   20.65     NaN   \n",
      "2        672.0       3.0  48865.863622     1.0     2.0   31.26     2.0   \n",
      "3          4.0       1.0    846.084069     NaN     NaN     NaN     NaN   \n",
      "4        766.0       4.0   6473.669071     1.0     0.0   19.60     1.0   \n",
      "...        ...       ...           ...     ...     ...     ...     ...   \n",
      "3877     160.0       1.0   2994.160916     2.0     6.0   25.18     NaN   \n",
      "3878     152.0       3.0  18972.962390     NaN     NaN   17.63     NaN   \n",
      "3879     282.0       1.0  14973.829180     2.0     0.0   26.13     2.0   \n",
      "3880     538.0       1.0   8748.477143     2.0     0.0   29.83     1.0   \n",
      "3881      16.0       3.0  15421.404948     NaN     NaN     NaN     NaN   \n",
      "\n",
      "      ALQ101  KIQ400  LBDFOLSI  LBDB12SI  LBDVIDMS  LBDCRYSI  LBDLUZSI  \n",
      "0        NaN     NaN       NaN       NaN       NaN       NaN       NaN  \n",
      "1        NaN     NaN       NaN       NaN       NaN       NaN       NaN  \n",
      "2        1.0     2.0      18.6    266.42      72.9    0.1035    0.3535  \n",
      "3        NaN     NaN       NaN       NaN       NaN       NaN       NaN  \n",
      "4        NaN     NaN      16.5    600.73      45.9    0.0539    0.1846  \n",
      "...      ...     ...       ...       ...       ...       ...       ...  \n",
      "3877     NaN     NaN       NaN       NaN       NaN       NaN       NaN  \n",
      "3878     NaN     NaN       NaN       NaN       NaN       NaN       NaN  \n",
      "3879     1.0     1.0      16.3    419.18      68.0    0.4215    0.3022  \n",
      "3880     1.0     1.0      18.1    459.04      68.0    0.3902    0.3092  \n",
      "3881     NaN     NaN       NaN       NaN       NaN       NaN       NaN  \n",
      "\n",
      "[3882 rows x 14 columns]\n",
      "      RIDAGEEX  RIDRETH1      WTMEC2YR  PAD320  PAD480  BMXBMI  SMQ020  \\\n",
      "2        672.0       3.0  48865.863622     1.0     2.0   31.26     2.0   \n",
      "9        255.0       3.0  21185.349924     1.0     6.0   23.90     1.0   \n",
      "21       853.0       3.0  14390.490464     1.0     6.0   29.75     2.0   \n",
      "23       303.0       3.0  45079.336655     1.0     1.0   31.17     1.0   \n",
      "28       313.0       1.0  14689.287372     2.0     6.0   26.62     2.0   \n",
      "...        ...       ...           ...     ...     ...     ...     ...   \n",
      "3870     497.0       1.0   7652.996496     2.0     6.0   31.92     2.0   \n",
      "3875     486.0       4.0  16216.058290     1.0     6.0   25.00     2.0   \n",
      "3876     409.0       3.0  55492.985838     2.0     0.0   29.41     2.0   \n",
      "3879     282.0       1.0  14973.829180     2.0     0.0   26.13     2.0   \n",
      "3880     538.0       1.0   8748.477143     2.0     0.0   29.83     1.0   \n",
      "\n",
      "      ALQ101  KIQ400  LBDFOLSI  LBDB12SI  LBDVIDMS  LBDCRYSI  LBDLUZSI  \n",
      "2        1.0     2.0      18.6    266.42      72.9    0.1035    0.3535  \n",
      "9        1.0     1.0      22.7    214.76      94.9    0.0527    0.1667  \n",
      "21       2.0     3.0      22.7    450.18      99.8    0.0554    0.1051  \n",
      "23       1.0     1.0      23.6    201.47      94.9    0.0673    0.1827  \n",
      "28       1.0     2.0      19.9    357.93      90.1    0.1167    0.2495  \n",
      "...      ...     ...       ...       ...       ...       ...       ...  \n",
      "3870     1.0     3.0      16.8    465.68      36.0    0.2194    0.2164  \n",
      "3875     1.0     1.0      13.4    272.32      53.2    0.1560    0.3149  \n",
      "3876     1.0     2.0      17.7    255.35      97.4    0.0833    0.2055  \n",
      "3879     1.0     1.0      16.3    419.18      68.0    0.4215    0.3022  \n",
      "3880     1.0     1.0      18.1    459.04      68.0    0.3902    0.3092  \n",
      "\n",
      "[1077 rows x 14 columns]\n",
      "Int64Index([ 198,  774, 1609, 1866, 2015, 2027, 2241, 2299, 2365, 2605, 2709,\n",
      "            2733, 2771, 2995, 3115, 3261, 3385, 3412, 3414],\n",
      "           dtype='int64') deleted.\n",
      "Int64Index([985, 2246], dtype='int64') deleted\n",
      "Int64Index([], dtype='int64') deleted\n",
      "   RIDAGEEX  RIDRETH1      WTMEC2YR  PAD320  PAD480  BMXBMI  SMQ020  ALQ101  \\\n",
      "0     672.0       3.0  48865.863622     1.0     2.0   31.26     2.0     1.0   \n",
      "1     255.0       3.0  21185.349924     1.0     6.0   23.90     1.0     1.0   \n",
      "2     853.0       3.0  14390.490464     1.0     6.0   29.75     2.0     2.0   \n",
      "3     303.0       3.0  45079.336655     1.0     1.0   31.17     1.0     1.0   \n",
      "4     313.0       1.0  14689.287372     2.0     6.0   26.62     2.0     1.0   \n",
      "\n",
      "   KIQ400  LBDFOLSI  LBDB12SI  LBDVIDMS  LBDCRYSI  LBDLUZSI  \n",
      "0     2.0      18.6    266.42      72.9    0.1035    0.3535  \n",
      "1     1.0      22.7    214.76      94.9    0.0527    0.1667  \n",
      "2     3.0      22.7    450.18      99.8    0.0554    0.1051  \n",
      "3     1.0      23.6    201.47      94.9    0.0673    0.1827  \n",
      "4     2.0      19.9    357.93      90.1    0.1167    0.2495  \n",
      "          RIDAGEEX     RIDRETH1      WTMEC2YR       PAD320       PAD480  \\\n",
      "count  1056.000000  1056.000000   1056.000000  1056.000000  1056.000000   \n",
      "mean    490.811553     2.839962  24977.791796     1.479167     3.135417   \n",
      "std     191.475843     1.122773  15731.515004     0.531065     2.636534   \n",
      "min     241.000000     1.000000   1142.758088     1.000000     0.000000   \n",
      "25%     334.750000     3.000000  13101.867813     1.000000     0.000000   \n",
      "50%     450.000000     3.000000  19353.440370     1.000000     3.000000   \n",
      "75%     598.250000     4.000000  38788.259117     2.000000     6.000000   \n",
      "max    1019.000000     5.000000  63528.726680     3.000000     6.000000   \n",
      "\n",
      "            BMXBMI       SMQ020       ALQ101       KIQ400     LBDFOLSI  \\\n",
      "count  1056.000000  1056.000000  1056.000000  1056.000000  1056.000000   \n",
      "mean     27.299725     1.456439     1.158144     1.494318    25.714205   \n",
      "std       5.151171     0.498335     0.365049     0.807527    13.651983   \n",
      "min      16.010000     1.000000     1.000000     1.000000     4.500000   \n",
      "25%      23.867500     1.000000     1.000000     1.000000    17.200000   \n",
      "50%      26.730000     1.000000     1.000000     1.000000    23.100000   \n",
      "75%      30.032500     2.000000     1.000000     2.000000    30.800000   \n",
      "max      61.620000     2.000000     2.000000     4.000000   210.400000   \n",
      "\n",
      "          LBDB12SI     LBDVIDMS     LBDCRYSI     LBDLUZSI  \n",
      "count  1056.000000  1056.000000  1056.000000  1056.000000  \n",
      "mean    371.697566    59.353220     0.166003     0.281928  \n",
      "std     194.404698    22.275717     0.119292     0.126661  \n",
      "min      84.130000     9.100000     0.002500     0.051500  \n",
      "25%     274.355000    43.400000     0.086500     0.193700  \n",
      "50%     342.060000    58.100000     0.136950     0.256900  \n",
      "75%     425.090000    72.900000     0.211600     0.344050  \n",
      "max    3760.110000   176.000000     1.180500     1.344200  \n"
     ]
    }
   ],
   "source": [
    "dataset_0102 = utils.preprocess('0102')\n",
    "print(dataset_0102.describe())\n",
    "dataset_0304 = utils.preprocess('0304')\n",
    "print(dataset_0304.describe())\n",
    "\n",
    "merged_dataset = pd.concat([dataset_0102,dataset_0304],axis=0)\n",
    "merged_dataset = merged_dataset.reset_index(drop=True)\n",
    "\n",
    "weights = merged_dataset['WTMEC2YR']\n",
    "merged_dataset = merged_dataset.drop(columns=['WTMEC2YR'])"
   ]
  },
  {
   "cell_type": "markdown",
   "metadata": {
    "_uuid": "40b6c0a9d03bcab78b87bd41c7df3fe1b930547a"
   },
   "source": [
    "## Exploratory Data Analysis (EDA)"
   ]
  },
  {
   "cell_type": "markdown",
   "metadata": {
    "_uuid": "41da6ba94903ad6ee64b1ba6a1462815ae603536"
   },
   "source": [
    "### First, analysing the target variable:"
   ]
  },
  {
   "cell_type": "code",
   "execution_count": 3,
   "metadata": {
    "_uuid": "29aa23ccb8e6438688e16346b3474f4cc03bae13"
   },
   "outputs": [
    {
     "name": "stdout",
     "output_type": "stream",
     "text": [
      "KIQ400      1.000000\n",
      "RIDAGEEX    0.418980\n",
      "PAD320      0.136455\n",
      "SMQ020      0.133106\n",
      "PAD480      0.105632\n",
      "RIDRETH1    0.098514\n",
      "LBDFOLSI    0.077355\n",
      "LBDLUZSI    0.056895\n",
      "LBDCRYSI    0.034179\n",
      "LBDVIDMS    0.033434\n",
      "ALQ101      0.017958\n",
      "BMXBMI      0.009716\n",
      "LBDB12SI    0.003807\n",
      "Name: KIQ400, dtype: float64\n"
     ]
    },
    {
     "data": {
      "text/plain": [
       "<Axes: xlabel='None'>"
      ]
     },
     "execution_count": 3,
     "metadata": {},
     "output_type": "execute_result"
    },
    {
     "data": {
      "image/png": "[encoded data removed]",
      "text/plain": [
       "<Figure size 640x480 with 1 Axes>"
      ]
     },
     "metadata": {},
     "output_type": "display_data"
    }
   ],
   "source": [
    "print(merged_dataset.corr()['KIQ400'].abs().sort_values(ascending=False))\n",
    "\n",
    "value_counts = merged_dataset['KIQ400'].value_counts().sort_index()\n",
    "\n",
    "sns.barplot(x=value_counts.index, y=value_counts.values, orient='h')\n"
   ]
  },
  {
   "cell_type": "markdown",
   "metadata": {
    "_uuid": "82f9919a1312b53f22980a0071d077e5b0288d90"
   },
   "source": [
    "### Analysing the all features"
   ]
  },
  {
   "cell_type": "code",
   "execution_count": 4,
   "metadata": {
    "_uuid": "07a3fb2f44b82360d0393377029851655bcdcd31"
   },
   "outputs": [
    {
     "data": {
      "image/png": "[encoded data removed]",
      "text/plain": [
       "<Figure size 1400x1400 with 2 Axes>"
      ]
     },
     "metadata": {},
     "output_type": "display_data"
    }
   ],
   "source": [
    "rcParams['figure.figsize'] = 16, 14\n",
    "plt.matshow(merged_dataset.corr())\n",
    "plt.yticks(np.arange(merged_dataset.shape[1]), merged_dataset.columns)\n",
    "plt.xticks(np.arange(merged_dataset.shape[1]), merged_dataset.columns)\n",
    "plt.colorbar()\n",
    "plt.show()"
   ]
  },
  {
   "cell_type": "markdown",
   "metadata": {
    "_uuid": "d1c95f2180e264978c85703ece34898dab4d522b"
   },
   "source": [
    "## IV. Train Test split"
   ]
  },
  {
   "cell_type": "code",
   "execution_count": 5,
   "metadata": {
    "_uuid": "829fcda5b63e1b9f7ecb7762e8ca617166533aca"
   },
   "outputs": [
    {
     "name": "stdout",
     "output_type": "stream",
     "text": [
      "(1808, 12) (452, 12) (1808,) (452,) (1808,) (452,)\n"
     ]
    }
   ],
   "source": [
    "predictors = merged_dataset.drop(\"KIQ400\", axis=1)\n",
    "# normalization\n",
    "# for col in predictors.columns:\n",
    "#     predictors[col] = (predictors[col] - predictors[col].min()) / (predictors[col].max() - predictors[col].min())\n",
    "\n",
    "# print(predictors)\n",
    "target = merged_dataset[\"KIQ400\"]\n",
    "\n",
    "X_train, X_test, Y_train, Y_test,weight_train,weight_test = train_test_split(predictors, target, weights,test_size=0.20, random_state=32)\n",
    "\n",
    "scaler = StandardScaler()\n",
    "X_train = scaler.fit_transform(X_train)\n",
    "X_test = scaler.transform(X_test)\n",
    "print(X_train.shape, X_test.shape, Y_train.shape, Y_test.shape,weight_train.shape,weight_test.shape)"
   ]
  },
  {
   "cell_type": "markdown",
   "metadata": {
    "_uuid": "3b4f28488a92917f26e9876c1880295ec9c077ed"
   },
   "source": [
    "## V. Model Fitting"
   ]
  },
  {
   "cell_type": "markdown",
   "metadata": {
    "_uuid": "afa6b322cbc225f3353bd295aea24fe5fbbb78fe"
   },
   "source": [
    "### Logistic Regression"
   ]
  },
  {
   "cell_type": "code",
   "execution_count": 6,
   "metadata": {
    "_uuid": "9aea2f597203ccf38cd0d67ae58bff6e163dea1c"
   },
   "outputs": [],
   "source": [
    "from sklearn.linear_model import LogisticRegression\n",
    "\n",
    "lr = LogisticRegression()\n",
    "\n",
    "lr.fit(X_train,Y_train,sample_weight=weight_train)\n",
    "\n",
    "Y_pred_lr = lr.predict(X_test)\n",
    "#plt.scatter(X_train, Y_train, c='grey', edgecolor='black')\n"
   ]
  },
  {
   "cell_type": "code",
   "execution_count": 7,
   "metadata": {
    "_uuid": "58fb833d1c74355ebdafe926968632942f377421"
   },
   "outputs": [
    {
     "data": {
      "text/plain": [
       "(452,)"
      ]
     },
     "execution_count": 7,
     "metadata": {},
     "output_type": "execute_result"
    }
   ],
   "source": [
    "Y_pred_lr.shape"
   ]
  },
  {
   "cell_type": "code",
   "execution_count": 8,
   "metadata": {
    "_uuid": "ee4cba838316adf863f8daf131d36a970d36b839"
   },
   "outputs": [
    {
     "name": "stdout",
     "output_type": "stream",
     "text": [
      "The accuracy score achieved using Logistic Regression is: 72.79 %\n"
     ]
    }
   ],
   "source": [
    "score_lr = round(accuracy_score(Y_pred_lr,Y_test)*100,2)\n",
    "\n",
    "print(\"The accuracy score achieved using Logistic Regression is: \"+str(score_lr)+\" %\")\n"
   ]
  },
  {
   "cell_type": "markdown",
   "metadata": {
    "_uuid": "4f92fceb9584ae03d3ab370ee11899cb287be690"
   },
   "source": [
    "### Naive Bayes"
   ]
  },
  {
   "cell_type": "code",
   "execution_count": 9,
   "metadata": {
    "_uuid": "ffcdab99b4108902547f0179a242a9757078dc68"
   },
   "outputs": [],
   "source": [
    "from sklearn.naive_bayes import GaussianNB\n",
    "\n",
    "nb = GaussianNB()\n",
    "\n",
    "nb.fit(X_train,Y_train,sample_weight=weight_train)\n",
    "\n",
    "Y_pred_nb = nb.predict(X_test)"
   ]
  },
  {
   "cell_type": "code",
   "execution_count": 10,
   "metadata": {
    "_uuid": "9109059d06e4c92494451b3cdab0bbb5a1816072"
   },
   "outputs": [
    {
     "data": {
      "text/plain": [
       "(452,)"
      ]
     },
     "execution_count": 10,
     "metadata": {},
     "output_type": "execute_result"
    }
   ],
   "source": [
    "Y_pred_nb.shape"
   ]
  },
  {
   "cell_type": "code",
   "execution_count": 11,
   "metadata": {
    "_uuid": "e8f8f55db061ada0b669ffa46e9ecc745fcda1ae"
   },
   "outputs": [
    {
     "name": "stdout",
     "output_type": "stream",
     "text": [
      "The accuracy score achieved using Naive Bayes is: 70.13 %\n"
     ]
    }
   ],
   "source": [
    "score_nb = round(accuracy_score(Y_pred_nb,Y_test)*100,2)\n",
    "\n",
    "print(\"The accuracy score achieved using Naive Bayes is: \"+str(score_nb)+\" %\")"
   ]
  },
  {
   "cell_type": "markdown",
   "metadata": {
    "_uuid": "2af8b010893284bae0d6cccf66ccfda646e7ca58"
   },
   "source": [
    "### SVM"
   ]
  },
  {
   "cell_type": "code",
   "execution_count": 12,
   "metadata": {
    "_uuid": "f1936ece7b76b67e552758a4c80e9421bffe0bc2"
   },
   "outputs": [],
   "source": [
    "from sklearn import svm\n",
    "\n",
    "sv = svm.SVC(kernel='linear')\n",
    "\n",
    "sv.fit(X_train, Y_train)\n",
    "\n",
    "Y_pred_svm = sv.predict(X_test)"
   ]
  },
  {
   "cell_type": "code",
   "execution_count": 13,
   "metadata": {
    "_uuid": "36f60f104264d44760705b9c802504f426e15592"
   },
   "outputs": [
    {
     "data": {
      "text/plain": [
       "(452,)"
      ]
     },
     "execution_count": 13,
     "metadata": {},
     "output_type": "execute_result"
    }
   ],
   "source": [
    "Y_pred_svm.shape"
   ]
  },
  {
   "cell_type": "code",
   "execution_count": 14,
   "metadata": {
    "_uuid": "f5a73bca6721f42b3983c328fd475390ba9bc4d3"
   },
   "outputs": [
    {
     "name": "stdout",
     "output_type": "stream",
     "text": [
      "The accuracy score achieved using Linear SVM is: 71.46 %\n"
     ]
    }
   ],
   "source": [
    "score_svm = round(accuracy_score(Y_pred_svm,Y_test)*100,2)\n",
    "\n",
    "print(\"The accuracy score achieved using Linear SVM is: \"+str(score_svm)+\" %\")"
   ]
  },
  {
   "cell_type": "markdown",
   "metadata": {
    "_uuid": "4e26d165b57f3f7882570964f1c2dc4a548404de"
   },
   "source": [
    "### K Nearest Neighbors"
   ]
  },
  {
   "cell_type": "code",
   "execution_count": 15,
   "metadata": {
    "_uuid": "286352867c53d5fb7dac2fc9bf4b2ac58a466ad0"
   },
   "outputs": [],
   "source": [
    "from sklearn.neighbors import KNeighborsClassifier\n",
    "\n",
    "knn = KNeighborsClassifier(n_neighbors=7)\n",
    "knn.fit(X_train,Y_train)\n",
    "Y_pred_knn=knn.predict(X_test)"
   ]
  },
  {
   "cell_type": "code",
   "execution_count": 16,
   "metadata": {
    "_uuid": "bccb7c1fcec36dd2eb7eb222f49604029adec2b4"
   },
   "outputs": [
    {
     "data": {
      "text/plain": [
       "(452,)"
      ]
     },
     "execution_count": 16,
     "metadata": {},
     "output_type": "execute_result"
    }
   ],
   "source": [
    "Y_pred_knn.shape"
   ]
  },
  {
   "cell_type": "code",
   "execution_count": 17,
   "metadata": {
    "_uuid": "dda4e8f8f18f96557cdd38cee177de0456db5f45"
   },
   "outputs": [
    {
     "name": "stdout",
     "output_type": "stream",
     "text": [
      "The accuracy score achieved using KNN is: 69.25 %\n"
     ]
    }
   ],
   "source": [
    "score_knn = round(accuracy_score(Y_pred_knn,Y_test)*100,2)\n",
    "\n",
    "print(\"The accuracy score achieved using KNN is: \"+str(score_knn)+\" %\")"
   ]
  },
  {
   "cell_type": "markdown",
   "metadata": {
    "_uuid": "abb767170c662e4d9a8b240fd0fd7286ffb0b67f"
   },
   "source": [
    "### Decision Tree"
   ]
  },
  {
   "cell_type": "code",
   "execution_count": 18,
   "metadata": {
    "_uuid": "8c141316764dce80103d1879c9b17d853702a746"
   },
   "outputs": [
    {
     "name": "stdout",
     "output_type": "stream",
     "text": [
      "Progress:[▉▉▉▉▉▉▉▉▉▉] 100.0%\n",
      "\n",
      "max accuracy: 57.96\n",
      "best x: 396\n"
     ]
    }
   ],
   "source": [
    "from sklearn.tree import DecisionTreeClassifier\n",
    "\n",
    "max_accuracy = 0\n",
    "\n",
    "\n",
    "for x in range(1000):\n",
    "    utils.show_progress(1000,x+1)\n",
    "    dt = DecisionTreeClassifier(random_state=x)\n",
    "    dt.fit(X_train,Y_train,sample_weight=weight_train)\n",
    "    Y_pred_dt = dt.predict(X_test)\n",
    "    current_accuracy = round(accuracy_score(Y_pred_dt,Y_test)*100,2)\n",
    "    if(current_accuracy>max_accuracy):\n",
    "        max_accuracy = current_accuracy\n",
    "        best_x = x\n",
    "\n",
    "print('\\n')\n",
    "print('max accuracy:',max_accuracy)\n",
    "print('best x:',best_x)\n",
    "\n",
    "\n",
    "dt = DecisionTreeClassifier(random_state=best_x)\n",
    "dt.fit(X_train,Y_train)\n",
    "Y_pred_dt = dt.predict(X_test)"
   ]
  },
  {
   "cell_type": "code",
   "execution_count": 19,
   "metadata": {
    "_uuid": "8de0bd2d57abd24d3a97a5b020a24439eb106f2b"
   },
   "outputs": [
    {
     "name": "stdout",
     "output_type": "stream",
     "text": [
      "(452,)\n"
     ]
    }
   ],
   "source": [
    "print(Y_pred_dt.shape)"
   ]
  },
  {
   "cell_type": "code",
   "execution_count": 20,
   "metadata": {
    "_uuid": "52ab93482d3b53824e9bc2b3e4114c57253e0c5b"
   },
   "outputs": [
    {
     "name": "stdout",
     "output_type": "stream",
     "text": [
      "The accuracy score achieved using Decision Tree is: 58.19 %\n"
     ]
    }
   ],
   "source": [
    "score_dt = round(accuracy_score(Y_pred_dt,Y_test)*100,2)\n",
    "\n",
    "print(\"The accuracy score achieved using Decision Tree is: \"+str(score_dt)+\" %\")"
   ]
  },
  {
   "cell_type": "markdown",
   "metadata": {},
   "source": [
    "### Random Forest"
   ]
  },
  {
   "cell_type": "code",
   "execution_count": null,
   "metadata": {},
   "outputs": [
    {
     "name": "stdout",
     "output_type": "stream",
     "text": [
      "Progress:[▉▉▉       ] 33.3%"
     ]
    }
   ],
   "source": [
    "from sklearn.ensemble import RandomForestClassifier\n",
    "\n",
    "max_accuracy = 0\n",
    "\n",
    "\n",
    "for x in range(1000):\n",
    "    utils.show_progress(1000,x+1)\n",
    "    rf = RandomForestClassifier(random_state=x,n_jobs=-1)\n",
    "    rf.fit(X_train,Y_train,sample_weight=weight_train)\n",
    "    Y_pred_rf = rf.predict(X_test)\n",
    "    current_accuracy = round(accuracy_score(Y_pred_rf,Y_test)*100,2)\n",
    "    if(current_accuracy>max_accuracy):\n",
    "        max_accuracy = current_accuracy\n",
    "        best_x = x\n",
    "        \n",
    "print('\\n')\n",
    "print('max accuracy:',max_accuracy)\n",
    "print('best x:',best_x)\n",
    "\n",
    "rf = RandomForestClassifier(random_state=best_x)\n",
    "rf.fit(X_train,Y_train)\n",
    "Y_pred_rf = rf.predict(X_test)"
   ]
  },
  {
   "cell_type": "code",
   "execution_count": null,
   "metadata": {},
   "outputs": [],
   "source": [
    "Y_pred_rf.shape"
   ]
  },
  {
   "cell_type": "code",
   "execution_count": null,
   "metadata": {},
   "outputs": [],
   "source": [
    "score_rf = round(accuracy_score(Y_pred_rf,Y_test)*100,2)\n",
    "\n",
    "print(\"The accuracy score achieved using Random Forest is: \"+str(score_rf)+\" %\")"
   ]
  },
  {
   "cell_type": "markdown",
   "metadata": {
    "_uuid": "c634cd922d716d350f6db0244772260cc598dec4"
   },
   "source": [
    "## VI. Output final score"
   ]
  },
  {
   "cell_type": "code",
   "execution_count": null,
   "metadata": {
    "_uuid": "101daa51242624c49bb8b3198d9d2c9f8f1c596e"
   },
   "outputs": [],
   "source": [
    "scores = [score_lr,score_nb,score_svm,score_knn,score_dt,score_rf]\n",
    "algorithms = [\"Logistic Regression\",\"Naive Bayes\",\"SVM\",\"KNN\",\"Decision Tree\",\"Random Forest\"]    \n",
    "\n",
    "for i in range(len(algorithms)):\n",
    "    print(\"The accuracy score achieved using \"+algorithms[i]+\" is: \"+str(scores[i])+\" %\")"
   ]
  },
  {
   "cell_type": "code",
   "execution_count": null,
   "metadata": {
    "_uuid": "8060c7d426f9f7b64772f37e0a74ededca16838d"
   },
   "outputs": [],
   "source": [
    "sns.set(rc={'figure.figsize':(15,8)})\n",
    "plt.xlabel(\"Algorithms\")\n",
    "plt.ylabel(\"Accuracy score\")\n",
    "\n",
    "sns.barplot(x=algorithms,y=scores)"
   ]
  },
  {
   "cell_type": "code",
   "execution_count": null,
   "metadata": {},
   "outputs": [],
   "source": []
  }
 ],
 "metadata": {
  "kernelspec": {
   "display_name": "Python 3 (ipykernel)",
   "language": "python",
   "name": "python3"
  },
  "language_info": {
   "codemirror_mode": {
    "name": "ipython",
    "version": 3
   },
   "file_extension": ".py",
   "mimetype": "text/x-python",
   "name": "python",
   "nbconvert_exporter": "python",
   "pygments_lexer": "ipython3",
   "version": "3.9.5"
  }
 },
 "nbformat": 4,
 "nbformat_minor": 4
}
