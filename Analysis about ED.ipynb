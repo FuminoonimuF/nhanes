{
 "cells": [
  {
   "cell_type": "markdown",
   "metadata": {
    "_uuid": "bbd660b62cc616efa33651beedc49b86045b784d"
   },
   "source": [
    "## <font size=5> <strong>Analysis about ED\n",
    " "
   ]
  },
  {
   "cell_type": "markdown",
   "metadata": {
    "_uuid": "e41ea25bec5928203cec544d0413fecd4b4e5555"
   },
   "source": [
    "## I. Importing essential libraries"
   ]
  },
  {
   "cell_type": "code",
   "execution_count": 16,
   "metadata": {
    "_uuid": "f571f7e57c828d45fe55f6136fe8c2e796f74d4e"
   },
   "outputs": [],
   "source": [
    "import numpy as np\n",
    "import pandas as pd\n",
    "import matplotlib.pyplot as plt\n",
    "from matplotlib import rcParams\n",
    "import seaborn as sns\n",
    "import os\n",
    "import warnings\n",
    "\n",
    "from sklearn.metrics import accuracy_score\n",
    "from sklearn.model_selection import train_test_split\n",
    "from sklearn.linear_model import LogisticRegression\n",
    "from sklearn.preprocessing import StandardScaler\n",
    "from keras.models import Sequential\n",
    "from keras.layers import Dense, LSTM, Input, Dropout, Embedding\n",
    "from keras.losses import CategoricalCrossentropy\n",
    "from keras.optimizers import SGD, Adam\n",
    "warnings.filterwarnings('ignore')"
   ]
  },
  {
   "cell_type": "markdown",
   "metadata": {
    "_uuid": "44e71221837f6fa60edc2c83b7492ddb019cc1cd"
   },
   "source": [
    "## II. Importing and understanding our dataset "
   ]
  },
  {
   "cell_type": "code",
   "execution_count": 2,
   "metadata": {
    "_uuid": "2a1a1dae64ae3c934849b2b918bc7d68cd59e3f6"
   },
   "outputs": [],
   "source": [
    "dataset_ed = pd.read_csv('ED.csv')\n",
    "dataset_b12 = pd.read_csv('B12.csv')\n",
    "dateset_bmx = pd.read_csv('BMX_B.csv')\n",
    "dataset_demo = pd.read_csv('DEMO_B.csv')"
   ]
  },
  {
   "cell_type": "markdown",
   "metadata": {
    "_uuid": "44649a50ce58d2e10a032f7d0e7ecf435e932481"
   },
   "source": [
    "#### Create interviewee info data"
   ]
  },
  {
   "cell_type": "code",
   "execution_count": 3,
   "metadata": {
    "_uuid": "0a2396061d262bee451e61dd51be84d0bd1ac9d0"
   },
   "outputs": [],
   "source": [
    "info_dataset = pd.merge(dataset_demo, dateset_bmx, on='SEQN', how='left')\n",
    "info_dataset = info_dataset.loc[:, ['BMXWT', 'SEQN', 'BMXHT', 'RIAGENDR', 'RIDAGEYR', 'RIDRETH1']]"
   ]
  },
  {
   "cell_type": "markdown",
   "metadata": {
    "_uuid": "3e1de0c39fc28f086a5e8377cc5fbdbf91d377b3"
   },
   "source": [
    "#### Merge datasets and remove SQEN col, reset index, drop unused cols"
   ]
  },
  {
   "cell_type": "code",
   "execution_count": 4,
   "metadata": {
    "_uuid": "87ebcc578e5959fe9a9c9a538c73122183454459"
   },
   "outputs": [],
   "source": [
    "merged_dataset = pd.merge(dataset_ed, dataset_b12, on='SEQN', how='left')\n",
    "merged_dataset = merged_dataset.loc[:, ['KIQ400', 'LBDFOLSI', 'LBDB12SI', 'SEQN']]\n",
    "merged_dataset = pd.merge(info_dataset, merged_dataset, on='SEQN', how='left')\n",
    "merged_dataset = merged_dataset.drop(columns=['SEQN'])"
   ]
  },
  {
   "cell_type": "code",
   "execution_count": 5,
   "metadata": {
    "_uuid": "5132eb43114bf99d5f857f459d0c9d2faffc9644"
   },
   "outputs": [
    {
     "name": "stdout",
     "output_type": "stream",
     "text": [
      "       BMXWT  BMXHT  RIAGENDR  RIDAGEYR  RIDRETH1  KIQ400  LBDFOLSI  LBDB12SI\n",
      "0       91.7  174.2       1.0      39.0       3.0     1.0      22.4    305.53\n",
      "1       84.0  167.4       1.0      23.0       4.0     1.0      39.4    687.82\n",
      "2       51.7  144.9       2.0      84.0       3.0     NaN       NaN       NaN\n",
      "3       58.0  161.4       2.0      51.0       3.0     NaN       NaN       NaN\n",
      "4      139.1  188.3       1.0      16.0       2.0     NaN       NaN       NaN\n",
      "...      ...    ...       ...       ...       ...     ...       ...       ...\n",
      "11034   66.7  156.5       2.0      10.0       3.0     NaN       NaN       NaN\n",
      "11035   10.0    NaN       1.0       0.0       3.0     NaN       NaN       NaN\n",
      "11036   37.7  134.5       1.0      10.0       5.0     NaN       NaN       NaN\n",
      "11037   31.5  145.0       1.0       9.0       4.0     NaN       NaN       NaN\n",
      "11038   72.9  170.6       1.0      31.0       2.0     1.0      23.6    312.91\n",
      "\n",
      "[11039 rows x 8 columns]\n"
     ]
    }
   ],
   "source": [
    "print(merged_dataset)"
   ]
  },
  {
   "cell_type": "markdown",
   "metadata": {
    "_uuid": "1113236bec2848d33c5bfe088ff0d03246b8b7ce"
   },
   "source": [
    "#### Delete rows including na"
   ]
  },
  {
   "cell_type": "code",
   "execution_count": 6,
   "metadata": {
    "_uuid": "c31619815cb0dae5586985671fdc21110b39a821"
   },
   "outputs": [
    {
     "name": "stdout",
     "output_type": "stream",
     "text": [
      "       BMXWT  BMXHT  RIAGENDR  RIDAGEYR  RIDRETH1  KIQ400  LBDFOLSI  LBDB12SI\n",
      "0       91.7  174.2       1.0      39.0       3.0     1.0      22.4    305.53\n",
      "1       84.0  167.4       1.0      23.0       4.0     1.0      39.4    687.82\n",
      "6      101.5  173.2       1.0      44.0       3.0     1.0      43.3    341.69\n",
      "10      72.3  179.2       1.0      36.0       3.0     1.0      42.4    460.51\n",
      "13      57.3  160.2       1.0      60.0       5.0     2.0      52.5    474.53\n",
      "...      ...    ...       ...       ...       ...     ...       ...       ...\n",
      "11020   85.8  183.7       1.0      44.0       3.0     1.0      29.2    442.06\n",
      "11022   84.7  175.7       1.0      40.0       4.0     1.0      19.0    370.48\n",
      "11027   64.5  157.7       1.0      32.0       1.0     2.0      16.1    366.79\n",
      "11033   82.0  169.5       1.0      85.0       3.0     4.0      40.1    346.12\n",
      "11038   72.9  170.6       1.0      31.0       2.0     1.0      23.6    312.91\n",
      "\n",
      "[1990 rows x 8 columns]\n"
     ]
    }
   ],
   "source": [
    "merged_dataset = merged_dataset.dropna()\n",
    "print(merged_dataset)"
   ]
  },
  {
   "cell_type": "markdown",
   "metadata": {},
   "source": [
    "#### Delete incorrect data"
   ]
  },
  {
   "cell_type": "code",
   "execution_count": 7,
   "metadata": {},
   "outputs": [
    {
     "name": "stdout",
     "output_type": "stream",
     "text": [
      "Int64Index([  140,   284,   654,  1058,  1164,  1427,  1785,  2512,  2782,\n",
      "             3176,  3539,  3590,  4670,  5692,  5975,  6842,  7095,  7169,\n",
      "             7250,  7522,  7660,  7670,  7899,  8276,  8290,  9447,  9801,\n",
      "             9825,  9938,  9950,  9966, 10149, 10216, 10306, 10753, 10868],\n",
      "           dtype='int64') deleted.\n",
      "Int64Index([2830, 5694, 8358], dtype='int64') deleted\n",
      "Int64Index([], dtype='int64') deleted\n",
      "Int64Index([], dtype='int64') deleted\n",
      "      BMXWT  BMXHT  RIDAGEYR  RIDRETH1  KIQ400  LBDFOLSI  LBDB12SI\n",
      "0      91.7  174.2      39.0       3.0     1.0      22.4    305.53\n",
      "1      84.0  167.4      23.0       4.0     1.0      39.4    687.82\n",
      "2     101.5  173.2      44.0       3.0     1.0      43.3    341.69\n",
      "3      72.3  179.2      36.0       3.0     1.0      42.4    460.51\n",
      "4      57.3  160.2      60.0       5.0     2.0      52.5    474.53\n",
      "...     ...    ...       ...       ...     ...       ...       ...\n",
      "1946   85.8  183.7      44.0       3.0     1.0      29.2    442.06\n",
      "1947   84.7  175.7      40.0       4.0     1.0      19.0    370.48\n",
      "1948   64.5  157.7      32.0       1.0     2.0      16.1    366.79\n",
      "1949   82.0  169.5      85.0       3.0     4.0      40.1    346.12\n",
      "1950   72.9  170.6      31.0       2.0     1.0      23.6    312.91\n",
      "\n",
      "[1951 rows x 7 columns]\n"
     ]
    }
   ],
   "source": [
    "drop_index = merged_dataset[merged_dataset['KIQ400'].isin([7, 9])].index\n",
    "print(drop_index, 'deleted.')\n",
    "merged_dataset.drop(drop_index, inplace=True)\n",
    "\n",
    "drop_index = merged_dataset[merged_dataset['LBDB12SI'] > 5000].index\n",
    "print(drop_index, 'deleted')\n",
    "merged_dataset.drop(drop_index, inplace=True)\n",
    "\n",
    "drop_index = merged_dataset[merged_dataset['LBDFOLSI'] > 500].index\n",
    "print(drop_index, 'deleted')\n",
    "merged_dataset.drop(drop_index, inplace=True)\n",
    "\n",
    "drop_index = merged_dataset[merged_dataset['RIAGENDR'] == 2].index\n",
    "print(drop_index, 'deleted')\n",
    "merged_dataset.drop(drop_index, inplace=True)\n",
    "merged_dataset = merged_dataset.drop(columns=['RIAGENDR'])\n",
    "\n",
    "merged_dataset = merged_dataset.reset_index(drop=True)\n",
    "\n",
    "print(merged_dataset)"
   ]
  },
  {
   "cell_type": "markdown",
   "metadata": {
    "_uuid": "99d7182ca186d37f63b1fc433fe74ad5e2bc7d2f"
   },
   "source": [
    "#### Analysing the target KIQ400"
   ]
  },
  {
   "cell_type": "code",
   "execution_count": 8,
   "metadata": {
    "_uuid": "5593d1021d54aad598c21f877e57969e6b47f5a8"
   },
   "outputs": [],
   "source": [
    "KIQ400 = merged_dataset['KIQ400']"
   ]
  },
  {
   "cell_type": "markdown",
   "metadata": {
    "_uuid": "6a970312b67b588610a8579ecc2ba4bac0fcee04"
   },
   "source": [
    "#### Check correlation between columns"
   ]
  },
  {
   "cell_type": "code",
   "execution_count": 9,
   "metadata": {
    "_uuid": "b883243919bd382193ed15e2a90f9b522bf6f1f7"
   },
   "outputs": [
    {
     "name": "stdout",
     "output_type": "stream",
     "text": [
      "             BMXWT        BMXHT     RIDAGEYR     RIDRETH1       KIQ400  \\\n",
      "count  1951.000000  1951.000000  1951.000000  1951.000000  1951.000000   \n",
      "mean     85.669862   174.994567    49.076371     2.763711     1.798565   \n",
      "std      18.478938     7.630782    17.747772     1.051512     1.027777   \n",
      "min      45.300000   151.600000    20.000000     1.000000     1.000000   \n",
      "25%      73.050000   169.800000    35.000000     2.000000     1.000000   \n",
      "50%      83.400000   175.200000    47.000000     3.000000     1.000000   \n",
      "75%      94.950000   180.200000    63.000000     3.000000     3.000000   \n",
      "max     188.300000   198.700000    85.000000     5.000000     4.000000   \n",
      "\n",
      "          LBDFOLSI     LBDB12SI  \n",
      "count  1951.000000  1951.000000  \n",
      "mean     29.963301   366.815044  \n",
      "std      20.191135   161.502975  \n",
      "min       2.500000    46.490000  \n",
      "25%      19.500000   265.680000  \n",
      "50%      26.500000   338.000000  \n",
      "75%      36.000000   437.265000  \n",
      "max     417.900000  2028.760000  \n"
     ]
    }
   ],
   "source": [
    "print(merged_dataset.describe())"
   ]
  },
  {
   "cell_type": "markdown",
   "metadata": {
    "_uuid": "40b6c0a9d03bcab78b87bd41c7df3fe1b930547a"
   },
   "source": [
    "## Exploratory Data Analysis (EDA)"
   ]
  },
  {
   "cell_type": "markdown",
   "metadata": {
    "_uuid": "41da6ba94903ad6ee64b1ba6a1462815ae603536"
   },
   "source": [
    "### First, analysing the target variable:"
   ]
  },
  {
   "cell_type": "code",
   "execution_count": 80,
   "metadata": {
    "_uuid": "29aa23ccb8e6438688e16346b3474f4cc03bae13"
   },
   "outputs": [
    {
     "name": "stdout",
     "output_type": "stream",
     "text": [
      "KIQ400      1.000000\n",
      "RIDAGEYR    0.567538\n",
      "BMXHT       0.189339\n",
      "LBDFOLSI    0.158506\n",
      "BMXWT       0.005458\n",
      "LBDB12SI    0.004089\n",
      "RIDRETH1    0.002307\n",
      "Name: KIQ400, dtype: float64\n"
     ]
    },
    {
     "data": {
      "text/plain": [
       "<Axes: xlabel='None'>"
      ]
     },
     "execution_count": 80,
     "metadata": {},
     "output_type": "execute_result"
    },
    {
     "data": {
      "image/png": "[encoded data removed]",
      "text/plain": [
       "<Figure size 1500x800 with 1 Axes>"
      ]
     },
     "metadata": {},
     "output_type": "display_data"
    }
   ],
   "source": [
    "print(merged_dataset.corr()['KIQ400'].abs().sort_values(ascending=False))\n",
    "\n",
    "value_counts = KIQ400.value_counts().sort_index()\n",
    "\n",
    "sns.barplot(x=value_counts.index, y=value_counts.values, orient='h')\n",
    "\n",
    "# plt.xticks([0, 1, 2, 3, 4])\n",
    "# plt.xlabel('KIQ400 level')\n",
    "# plt.ylabel('Count')\n",
    "# plt.title('KIQ400 level Count')\n",
    "# plt.show()"
   ]
  },
  {
   "cell_type": "markdown",
   "metadata": {
    "_uuid": "82f9919a1312b53f22980a0071d077e5b0288d90"
   },
   "source": [
    "### Analysing the all features"
   ]
  },
  {
   "cell_type": "code",
   "execution_count": 82,
   "metadata": {
    "_uuid": "07a3fb2f44b82360d0393377029851655bcdcd31"
   },
   "outputs": [
    {
     "data": {
      "image/png": "[encoded data removed]",
      "text/plain": [
       "<Figure size 1400x1400 with 2 Axes>"
      ]
     },
     "metadata": {},
     "output_type": "display_data"
    }
   ],
   "source": [
    "rcParams['figure.figsize'] = 20, 14\n",
    "plt.matshow(merged_dataset.corr())\n",
    "plt.yticks(np.arange(merged_dataset.shape[1]), merged_dataset.columns)\n",
    "plt.xticks(np.arange(merged_dataset.shape[1]), merged_dataset.columns)\n",
    "plt.colorbar()\n",
    "plt.show()"
   ]
  },
  {
   "cell_type": "markdown",
   "metadata": {
    "_uuid": "d1c95f2180e264978c85703ece34898dab4d522b"
   },
   "source": [
    "## IV. Train Test split"
   ]
  },
  {
   "cell_type": "code",
   "execution_count": 12,
   "metadata": {
    "_uuid": "829fcda5b63e1b9f7ecb7762e8ca617166533aca"
   },
   "outputs": [
    {
     "name": "stdout",
     "output_type": "stream",
     "text": [
      "(1560, 6) (391, 6) (1560,) (391,)\n"
     ]
    }
   ],
   "source": [
    "predictors = merged_dataset.drop(\"KIQ400\", axis=1)\n",
    "# normalization\n",
    "# for col in predictors.columns:\n",
    "#     predictors[col] = (predictors[col] - predictors[col].min()) / (predictors[col].max() - predictors[col].min())\n",
    "\n",
    "# print(predictors)\n",
    "target = merged_dataset[\"KIQ400\"]\n",
    "\n",
    "X_train, X_test, Y_train, Y_test = train_test_split(predictors, target, test_size=0.20, random_state=32)\n",
    "\n",
    "scaler = StandardScaler()\n",
    "X_train = scaler.fit_transform(X_train)\n",
    "X_test = scaler.transform(X_test)\n",
    "print(X_train.shape, X_test.shape, Y_train.shape, Y_test.shape)"
   ]
  },
  {
   "cell_type": "markdown",
   "metadata": {
    "_uuid": "3b4f28488a92917f26e9876c1880295ec9c077ed"
   },
   "source": [
    "## V. Model Fitting"
   ]
  },
  {
   "cell_type": "markdown",
   "metadata": {
    "_uuid": "afa6b322cbc225f3353bd295aea24fe5fbbb78fe"
   },
   "source": [
    "### Logistic Regression"
   ]
  },
  {
   "cell_type": "code",
   "execution_count": 17,
   "metadata": {
    "_uuid": "9aea2f597203ccf38cd0d67ae58bff6e163dea1c"
   },
   "outputs": [],
   "source": [
    "from sklearn.linear_model import LogisticRegression\n",
    "\n",
    "lr = LogisticRegression()\n",
    "\n",
    "lr.fit(X_train,Y_train)\n",
    "\n",
    "Y_pred_lr = lr.predict(X_test)"
   ]
  },
  {
   "cell_type": "code",
   "execution_count": 18,
   "metadata": {
    "_uuid": "58fb833d1c74355ebdafe926968632942f377421"
   },
   "outputs": [
    {
     "data": {
      "text/plain": [
       "(391,)"
      ]
     },
     "execution_count": 18,
     "metadata": {},
     "output_type": "execute_result"
    }
   ],
   "source": [
    "Y_pred_lr.shape"
   ]
  },
  {
   "cell_type": "code",
   "execution_count": 19,
   "metadata": {
    "_uuid": "ee4cba838316adf863f8daf131d36a970d36b839"
   },
   "outputs": [
    {
     "name": "stdout",
     "output_type": "stream",
     "text": [
      "The accuracy score achieved using Logistic Regression is: 59.59 %\n"
     ]
    }
   ],
   "source": [
    "score_lr = round(accuracy_score(Y_pred_lr,Y_test)*100,2)\n",
    "\n",
    "print(\"The accuracy score achieved using Logistic Regression is: \"+str(score_lr)+\" %\")"
   ]
  },
  {
   "cell_type": "markdown",
   "metadata": {
    "_uuid": "4f92fceb9584ae03d3ab370ee11899cb287be690"
   },
   "source": [
    "### Naive Bayes"
   ]
  },
  {
   "cell_type": "code",
   "execution_count": 20,
   "metadata": {
    "_uuid": "ffcdab99b4108902547f0179a242a9757078dc68"
   },
   "outputs": [],
   "source": [
    "from sklearn.naive_bayes import GaussianNB\n",
    "\n",
    "nb = GaussianNB()\n",
    "\n",
    "nb.fit(X_train,Y_train)\n",
    "\n",
    "Y_pred_nb = nb.predict(X_test)"
   ]
  },
  {
   "cell_type": "code",
   "execution_count": 21,
   "metadata": {
    "_uuid": "9109059d06e4c92494451b3cdab0bbb5a1816072"
   },
   "outputs": [
    {
     "data": {
      "text/plain": [
       "(391,)"
      ]
     },
     "execution_count": 21,
     "metadata": {},
     "output_type": "execute_result"
    }
   ],
   "source": [
    "Y_pred_nb.shape"
   ]
  },
  {
   "cell_type": "code",
   "execution_count": 22,
   "metadata": {
    "_uuid": "e8f8f55db061ada0b669ffa46e9ecc745fcda1ae"
   },
   "outputs": [
    {
     "name": "stdout",
     "output_type": "stream",
     "text": [
      "The accuracy score achieved using Naive Bayes is: 57.54 %\n"
     ]
    }
   ],
   "source": [
    "score_nb = round(accuracy_score(Y_pred_nb,Y_test)*100,2)\n",
    "\n",
    "print(\"The accuracy score achieved using Naive Bayes is: \"+str(score_nb)+\" %\")"
   ]
  },
  {
   "cell_type": "markdown",
   "metadata": {
    "_uuid": "2af8b010893284bae0d6cccf66ccfda646e7ca58"
   },
   "source": [
    "### SVM"
   ]
  },
  {
   "cell_type": "code",
   "execution_count": 23,
   "metadata": {
    "_uuid": "f1936ece7b76b67e552758a4c80e9421bffe0bc2"
   },
   "outputs": [],
   "source": [
    "from sklearn import svm\n",
    "\n",
    "sv = svm.SVC(kernel='linear')\n",
    "\n",
    "sv.fit(X_train, Y_train)\n",
    "\n",
    "Y_pred_svm = sv.predict(X_test)"
   ]
  },
  {
   "cell_type": "code",
   "execution_count": 24,
   "metadata": {
    "_uuid": "36f60f104264d44760705b9c802504f426e15592"
   },
   "outputs": [
    {
     "data": {
      "text/plain": [
       "(391,)"
      ]
     },
     "execution_count": 24,
     "metadata": {},
     "output_type": "execute_result"
    }
   ],
   "source": [
    "Y_pred_svm.shape"
   ]
  },
  {
   "cell_type": "code",
   "execution_count": 25,
   "metadata": {
    "_uuid": "f5a73bca6721f42b3983c328fd475390ba9bc4d3"
   },
   "outputs": [
    {
     "name": "stdout",
     "output_type": "stream",
     "text": [
      "The accuracy score achieved using Linear SVM is: 57.54 %\n"
     ]
    }
   ],
   "source": [
    "score_svm = round(accuracy_score(Y_pred_svm,Y_test)*100,2)\n",
    "\n",
    "print(\"The accuracy score achieved using Linear SVM is: \"+str(score_svm)+\" %\")"
   ]
  },
  {
   "cell_type": "markdown",
   "metadata": {
    "_uuid": "4e26d165b57f3f7882570964f1c2dc4a548404de"
   },
   "source": [
    "### K Nearest Neighbors"
   ]
  },
  {
   "cell_type": "code",
   "execution_count": 26,
   "metadata": {
    "_uuid": "286352867c53d5fb7dac2fc9bf4b2ac58a466ad0"
   },
   "outputs": [],
   "source": [
    "from sklearn.neighbors import KNeighborsClassifier\n",
    "\n",
    "knn = KNeighborsClassifier(n_neighbors=7)\n",
    "knn.fit(X_train,Y_train)\n",
    "Y_pred_knn=knn.predict(X_test)"
   ]
  },
  {
   "cell_type": "code",
   "execution_count": 27,
   "metadata": {
    "_uuid": "bccb7c1fcec36dd2eb7eb222f49604029adec2b4"
   },
   "outputs": [
    {
     "data": {
      "text/plain": [
       "(391,)"
      ]
     },
     "execution_count": 27,
     "metadata": {},
     "output_type": "execute_result"
    }
   ],
   "source": [
    "Y_pred_knn.shape"
   ]
  },
  {
   "cell_type": "code",
   "execution_count": 28,
   "metadata": {
    "_uuid": "dda4e8f8f18f96557cdd38cee177de0456db5f45"
   },
   "outputs": [
    {
     "name": "stdout",
     "output_type": "stream",
     "text": [
      "The accuracy score achieved using KNN is: 57.8 %\n"
     ]
    }
   ],
   "source": [
    "score_knn = round(accuracy_score(Y_pred_knn,Y_test)*100,2)\n",
    "\n",
    "print(\"The accuracy score achieved using KNN is: \"+str(score_knn)+\" %\")"
   ]
  },
  {
   "cell_type": "markdown",
   "metadata": {
    "_uuid": "abb767170c662e4d9a8b240fd0fd7286ffb0b67f"
   },
   "source": [
    "### Decision Tree"
   ]
  },
  {
   "cell_type": "code",
   "execution_count": 29,
   "metadata": {
    "_uuid": "8c141316764dce80103d1879c9b17d853702a746"
   },
   "outputs": [],
   "source": [
    "from sklearn.tree import DecisionTreeClassifier\n",
    "\n",
    "max_accuracy = 0\n",
    "\n",
    "\n",
    "for x in range(200):\n",
    "    dt = DecisionTreeClassifier(random_state=x)\n",
    "    dt.fit(X_train,Y_train)\n",
    "    Y_pred_dt = dt.predict(X_test)\n",
    "    current_accuracy = round(accuracy_score(Y_pred_dt,Y_test)*100,2)\n",
    "    if(current_accuracy>max_accuracy):\n",
    "        max_accuracy = current_accuracy\n",
    "        best_x = x\n",
    "        \n",
    "#print(max_accuracy)\n",
    "#print(best_x)\n",
    "\n",
    "\n",
    "dt = DecisionTreeClassifier(random_state=best_x)\n",
    "dt.fit(X_train,Y_train)\n",
    "Y_pred_dt = dt.predict(X_test)"
   ]
  },
  {
   "cell_type": "code",
   "execution_count": 30,
   "metadata": {
    "_uuid": "8de0bd2d57abd24d3a97a5b020a24439eb106f2b"
   },
   "outputs": [
    {
     "name": "stdout",
     "output_type": "stream",
     "text": [
      "(391,)\n"
     ]
    }
   ],
   "source": [
    "print(Y_pred_dt.shape)"
   ]
  },
  {
   "cell_type": "code",
   "execution_count": 31,
   "metadata": {
    "_uuid": "52ab93482d3b53824e9bc2b3e4114c57253e0c5b"
   },
   "outputs": [
    {
     "name": "stdout",
     "output_type": "stream",
     "text": [
      "The accuracy score achieved using Decision Tree is: 54.73 %\n"
     ]
    }
   ],
   "source": [
    "score_dt = round(accuracy_score(Y_pred_dt,Y_test)*100,2)\n",
    "\n",
    "print(\"The accuracy score achieved using Decision Tree is: \"+str(score_dt)+\" %\")"
   ]
  },
  {
   "cell_type": "markdown",
   "metadata": {
    "_uuid": "6a0fc13a6c2fccd6a725a7691cfe95d74348a8ae"
   },
   "source": [
    "### XGBoost"
   ]
  },
  {
   "cell_type": "code",
   "execution_count": 32,
   "metadata": {
    "_uuid": "5a437f3c0e190887e2192ecb1844eaa6eb1d34a7"
   },
   "outputs": [],
   "source": [
    "import xgboost as xgb\n",
    "from sklearn.preprocessing import LabelEncoder\n",
    "le = LabelEncoder()\n",
    "Y_train = le.fit_transform(Y_train)\n",
    "\n",
    "xgb_model = xgb.XGBClassifier(objective=\"binary:logistic\", random_state=42)\n",
    "xgb_model.fit(X_train, Y_train)\n",
    "\n",
    "Y_pred_xgb = xgb_model.predict(X_test)"
   ]
  },
  {
   "cell_type": "code",
   "execution_count": 33,
   "metadata": {
    "_uuid": "168d52cd705f2abb6763107328c984e4252c618e"
   },
   "outputs": [
    {
     "data": {
      "text/plain": [
       "(391,)"
      ]
     },
     "execution_count": 33,
     "metadata": {},
     "output_type": "execute_result"
    }
   ],
   "source": [
    "Y_pred_xgb.shape"
   ]
  },
  {
   "cell_type": "code",
   "execution_count": 54,
   "metadata": {
    "_uuid": "319c4f0d2e62b03c95a48df0ecc33b15e7fa7f39"
   },
   "outputs": [
    {
     "name": "stdout",
     "output_type": "stream",
     "text": [
      "The accuracy score achieved using XGBoost is: 9.97 %\n"
     ]
    }
   ],
   "source": [
    "score_xgb = round(accuracy_score(Y_pred_xgb,Y_test)*100,2)\n",
    "\n",
    "print(\"The accuracy score achieved using XGBoost is: \"+str(score_xgb)+\" %\")"
   ]
  },
  {
   "cell_type": "markdown",
   "metadata": {
    "_uuid": "e224ab23f275a3a56cdba6a9ccfddbd6a4d3b4fd"
   },
   "source": [
    "### Neural Network"
   ]
  },
  {
   "cell_type": "code",
   "execution_count": 70,
   "metadata": {
    "_uuid": "650f1baa7db466923626c707408319fa29f22d10"
   },
   "outputs": [
    {
     "name": "stdout",
     "output_type": "stream",
     "text": [
      "Epoch 1/300\n",
      "98/98 [==============================] - 0s 825us/step - loss: 0.0000e+00 - accuracy: 0.5372\n",
      "Epoch 2/300\n",
      "98/98 [==============================] - 0s 784us/step - loss: 0.0000e+00 - accuracy: 0.5462\n",
      "Epoch 3/300\n",
      "98/98 [==============================] - 0s 763us/step - loss: 0.0000e+00 - accuracy: 0.5500\n",
      "Epoch 4/300\n",
      "98/98 [==============================] - 0s 773us/step - loss: 0.0000e+00 - accuracy: 0.5462\n",
      "Epoch 5/300\n",
      "98/98 [==============================] - 0s 763us/step - loss: 0.0000e+00 - accuracy: 0.5487\n",
      "Epoch 6/300\n",
      "98/98 [==============================] - 0s 753us/step - loss: 0.0000e+00 - accuracy: 0.5481\n",
      "Epoch 7/300\n",
      "98/98 [==============================] - 0s 773us/step - loss: 0.0000e+00 - accuracy: 0.5481\n",
      "Epoch 8/300\n",
      "98/98 [==============================] - 0s 773us/step - loss: 0.0000e+00 - accuracy: 0.5468\n",
      "Epoch 9/300\n",
      "98/98 [==============================] - 0s 773us/step - loss: 0.0000e+00 - accuracy: 0.5481\n",
      "Epoch 10/300\n",
      "98/98 [==============================] - 0s 856us/step - loss: 0.0000e+00 - accuracy: 0.5500\n",
      "Epoch 11/300\n",
      "98/98 [==============================] - 0s 845us/step - loss: 0.0000e+00 - accuracy: 0.5468\n",
      "Epoch 12/300\n",
      "98/98 [==============================] - 0s 876us/step - loss: 0.0000e+00 - accuracy: 0.5474\n",
      "Epoch 13/300\n",
      "98/98 [==============================] - 0s 897us/step - loss: 0.0000e+00 - accuracy: 0.5474\n",
      "Epoch 14/300\n",
      "98/98 [==============================] - 0s 814us/step - loss: 0.0000e+00 - accuracy: 0.5487\n",
      "Epoch 15/300\n",
      "98/98 [==============================] - 0s 773us/step - loss: 0.0000e+00 - accuracy: 0.5487\n",
      "Epoch 16/300\n",
      "98/98 [==============================] - 0s 763us/step - loss: 0.0000e+00 - accuracy: 0.5481\n",
      "Epoch 17/300\n",
      "98/98 [==============================] - 0s 753us/step - loss: 0.0000e+00 - accuracy: 0.5468\n",
      "Epoch 18/300\n",
      "98/98 [==============================] - 0s 763us/step - loss: 0.0000e+00 - accuracy: 0.5468\n",
      "Epoch 19/300\n",
      "98/98 [==============================] - 0s 774us/step - loss: 0.0000e+00 - accuracy: 0.5474\n",
      "Epoch 20/300\n",
      "98/98 [==============================] - 0s 773us/step - loss: 0.0000e+00 - accuracy: 0.5481\n",
      "Epoch 21/300\n",
      "98/98 [==============================] - 0s 763us/step - loss: 0.0000e+00 - accuracy: 0.5468\n",
      "Epoch 22/300\n",
      "98/98 [==============================] - 0s 784us/step - loss: 0.0000e+00 - accuracy: 0.5468\n",
      "Epoch 23/300\n",
      "98/98 [==============================] - 0s 784us/step - loss: 0.0000e+00 - accuracy: 0.5468\n",
      "Epoch 24/300\n",
      "98/98 [==============================] - 0s 783us/step - loss: 0.0000e+00 - accuracy: 0.5468\n",
      "Epoch 25/300\n",
      "98/98 [==============================] - 0s 763us/step - loss: 0.0000e+00 - accuracy: 0.5468\n",
      "Epoch 26/300\n",
      "98/98 [==============================] - 0s 763us/step - loss: 0.0000e+00 - accuracy: 0.5468\n",
      "Epoch 27/300\n",
      "98/98 [==============================] - 0s 763us/step - loss: 0.0000e+00 - accuracy: 0.5468\n",
      "Epoch 28/300\n",
      "98/98 [==============================] - 0s 763us/step - loss: 0.0000e+00 - accuracy: 0.5468\n",
      "Epoch 29/300\n",
      "98/98 [==============================] - 0s 773us/step - loss: 0.0000e+00 - accuracy: 0.5462\n",
      "Epoch 30/300\n",
      "98/98 [==============================] - 0s 763us/step - loss: 0.0000e+00 - accuracy: 0.5468\n",
      "Epoch 31/300\n",
      "98/98 [==============================] - 0s 773us/step - loss: 0.0000e+00 - accuracy: 0.5468\n",
      "Epoch 32/300\n",
      "98/98 [==============================] - 0s 763us/step - loss: 0.0000e+00 - accuracy: 0.5468\n",
      "Epoch 33/300\n",
      "98/98 [==============================] - 0s 783us/step - loss: 0.0000e+00 - accuracy: 0.5462\n",
      "Epoch 34/300\n",
      "98/98 [==============================] - 0s 794us/step - loss: 0.0000e+00 - accuracy: 0.5462\n",
      "Epoch 35/300\n",
      "98/98 [==============================] - 0s 794us/step - loss: 0.0000e+00 - accuracy: 0.5462\n",
      "Epoch 36/300\n",
      "98/98 [==============================] - 0s 783us/step - loss: 0.0000e+00 - accuracy: 0.5462\n",
      "Epoch 37/300\n",
      "98/98 [==============================] - 0s 784us/step - loss: 0.0000e+00 - accuracy: 0.5468\n",
      "Epoch 38/300\n",
      "98/98 [==============================] - 0s 794us/step - loss: 0.0000e+00 - accuracy: 0.5462\n",
      "Epoch 39/300\n",
      "98/98 [==============================] - 0s 784us/step - loss: 0.0000e+00 - accuracy: 0.5462\n",
      "Epoch 40/300\n",
      "98/98 [==============================] - 0s 876us/step - loss: 0.0000e+00 - accuracy: 0.5468\n",
      "Epoch 41/300\n",
      "98/98 [==============================] - 0s 773us/step - loss: 0.0000e+00 - accuracy: 0.5462\n",
      "Epoch 42/300\n",
      "98/98 [==============================] - 0s 784us/step - loss: 0.0000e+00 - accuracy: 0.5468\n",
      "Epoch 43/300\n",
      "98/98 [==============================] - 0s 794us/step - loss: 0.0000e+00 - accuracy: 0.5462\n",
      "Epoch 44/300\n",
      "98/98 [==============================] - 0s 773us/step - loss: 0.0000e+00 - accuracy: 0.5468\n",
      "Epoch 45/300\n",
      "98/98 [==============================] - 0s 763us/step - loss: 0.0000e+00 - accuracy: 0.5468\n",
      "Epoch 46/300\n",
      "98/98 [==============================] - 0s 773us/step - loss: 0.0000e+00 - accuracy: 0.5468\n",
      "Epoch 47/300\n",
      "98/98 [==============================] - 0s 784us/step - loss: 0.0000e+00 - accuracy: 0.5468\n",
      "Epoch 48/300\n",
      "98/98 [==============================] - 0s 814us/step - loss: 0.0000e+00 - accuracy: 0.5468\n",
      "Epoch 49/300\n",
      "98/98 [==============================] - 0s 814us/step - loss: 0.0000e+00 - accuracy: 0.5468\n",
      "Epoch 50/300\n",
      "98/98 [==============================] - 0s 804us/step - loss: 0.0000e+00 - accuracy: 0.5468\n",
      "Epoch 51/300\n",
      "98/98 [==============================] - 0s 773us/step - loss: 0.0000e+00 - accuracy: 0.5468\n",
      "Epoch 52/300\n",
      "98/98 [==============================] - 0s 773us/step - loss: 0.0000e+00 - accuracy: 0.5462\n",
      "Epoch 53/300\n",
      "98/98 [==============================] - 0s 763us/step - loss: 0.0000e+00 - accuracy: 0.5468\n",
      "Epoch 54/300\n",
      "98/98 [==============================] - 0s 763us/step - loss: 0.0000e+00 - accuracy: 0.5468\n",
      "Epoch 55/300\n",
      "98/98 [==============================] - 0s 753us/step - loss: 0.0000e+00 - accuracy: 0.5468\n",
      "Epoch 56/300\n",
      "98/98 [==============================] - 0s 753us/step - loss: 0.0000e+00 - accuracy: 0.5468\n",
      "Epoch 57/300\n",
      "98/98 [==============================] - 0s 763us/step - loss: 0.0000e+00 - accuracy: 0.5462\n",
      "Epoch 58/300\n",
      "98/98 [==============================] - 0s 753us/step - loss: 0.0000e+00 - accuracy: 0.5468\n",
      "Epoch 59/300\n",
      "98/98 [==============================] - 0s 763us/step - loss: 0.0000e+00 - accuracy: 0.5468\n",
      "Epoch 60/300\n",
      "98/98 [==============================] - 0s 773us/step - loss: 0.0000e+00 - accuracy: 0.5468\n",
      "Epoch 61/300\n",
      "98/98 [==============================] - 0s 774us/step - loss: 0.0000e+00 - accuracy: 0.5468\n",
      "Epoch 62/300\n",
      "98/98 [==============================] - 0s 763us/step - loss: 0.0000e+00 - accuracy: 0.5468\n",
      "Epoch 63/300\n",
      "98/98 [==============================] - 0s 753us/step - loss: 0.0000e+00 - accuracy: 0.5468\n",
      "Epoch 64/300\n",
      "98/98 [==============================] - 0s 763us/step - loss: 0.0000e+00 - accuracy: 0.5468\n",
      "Epoch 65/300\n",
      "98/98 [==============================] - 0s 753us/step - loss: 0.0000e+00 - accuracy: 0.5468\n",
      "Epoch 66/300\n",
      "98/98 [==============================] - 0s 753us/step - loss: 0.0000e+00 - accuracy: 0.5468\n",
      "Epoch 67/300\n",
      "98/98 [==============================] - 0s 753us/step - loss: 0.0000e+00 - accuracy: 0.5468\n",
      "Epoch 68/300\n",
      "98/98 [==============================] - 0s 753us/step - loss: 0.0000e+00 - accuracy: 0.5468\n",
      "Epoch 69/300\n",
      "98/98 [==============================] - 0s 763us/step - loss: 0.0000e+00 - accuracy: 0.5468\n",
      "Epoch 70/300\n",
      "98/98 [==============================] - 0s 753us/step - loss: 0.0000e+00 - accuracy: 0.5468\n",
      "Epoch 71/300\n",
      "98/98 [==============================] - 0s 753us/step - loss: 0.0000e+00 - accuracy: 0.5468\n",
      "Epoch 72/300\n",
      "98/98 [==============================] - 0s 753us/step - loss: 0.0000e+00 - accuracy: 0.5468\n",
      "Epoch 73/300\n",
      "98/98 [==============================] - 0s 763us/step - loss: 0.0000e+00 - accuracy: 0.5468\n",
      "Epoch 74/300\n",
      "98/98 [==============================] - 0s 753us/step - loss: 0.0000e+00 - accuracy: 0.5468\n",
      "Epoch 75/300\n",
      "98/98 [==============================] - 0s 763us/step - loss: 0.0000e+00 - accuracy: 0.5468\n",
      "Epoch 76/300\n",
      "98/98 [==============================] - 0s 763us/step - loss: 0.0000e+00 - accuracy: 0.5468\n",
      "Epoch 77/300\n",
      "98/98 [==============================] - 0s 753us/step - loss: 0.0000e+00 - accuracy: 0.5468\n",
      "Epoch 78/300\n",
      "98/98 [==============================] - 0s 758us/step - loss: 0.0000e+00 - accuracy: 0.5468\n",
      "Epoch 79/300\n",
      "98/98 [==============================] - 0s 763us/step - loss: 0.0000e+00 - accuracy: 0.5468\n",
      "Epoch 80/300\n",
      "98/98 [==============================] - 0s 763us/step - loss: 0.0000e+00 - accuracy: 0.5468\n",
      "Epoch 81/300\n",
      "98/98 [==============================] - 0s 763us/step - loss: 0.0000e+00 - accuracy: 0.5468\n",
      "Epoch 82/300\n",
      "98/98 [==============================] - 0s 763us/step - loss: 0.0000e+00 - accuracy: 0.5468\n",
      "Epoch 83/300\n",
      "98/98 [==============================] - 0s 753us/step - loss: 0.0000e+00 - accuracy: 0.5468\n",
      "Epoch 84/300\n",
      "98/98 [==============================] - 0s 835us/step - loss: 0.0000e+00 - accuracy: 0.5468\n",
      "Epoch 85/300\n",
      "98/98 [==============================] - 0s 753us/step - loss: 0.0000e+00 - accuracy: 0.5468\n",
      "Epoch 86/300\n",
      "98/98 [==============================] - 0s 763us/step - loss: 0.0000e+00 - accuracy: 0.5468\n",
      "Epoch 87/300\n",
      "98/98 [==============================] - 0s 773us/step - loss: 0.0000e+00 - accuracy: 0.5468\n",
      "Epoch 88/300\n",
      "98/98 [==============================] - 0s 753us/step - loss: 0.0000e+00 - accuracy: 0.5468\n",
      "Epoch 89/300\n",
      "98/98 [==============================] - 0s 760us/step - loss: 0.0000e+00 - accuracy: 0.5468\n",
      "Epoch 90/300\n",
      "98/98 [==============================] - 0s 763us/step - loss: 0.0000e+00 - accuracy: 0.5468\n",
      "Epoch 91/300\n",
      "98/98 [==============================] - 0s 753us/step - loss: 0.0000e+00 - accuracy: 0.5468\n",
      "Epoch 92/300\n",
      "98/98 [==============================] - 0s 763us/step - loss: 0.0000e+00 - accuracy: 0.5462\n",
      "Epoch 93/300\n",
      "98/98 [==============================] - 0s 753us/step - loss: 0.0000e+00 - accuracy: 0.5474\n",
      "Epoch 94/300\n",
      "98/98 [==============================] - 0s 763us/step - loss: 0.0000e+00 - accuracy: 0.5468\n",
      "Epoch 95/300\n",
      "98/98 [==============================] - 0s 773us/step - loss: 0.0000e+00 - accuracy: 0.5468\n",
      "Epoch 96/300\n",
      "98/98 [==============================] - 0s 794us/step - loss: 0.0000e+00 - accuracy: 0.5462\n",
      "Epoch 97/300\n",
      "98/98 [==============================] - 0s 784us/step - loss: 0.0000e+00 - accuracy: 0.5468\n",
      "Epoch 98/300\n",
      "98/98 [==============================] - 0s 794us/step - loss: 0.0000e+00 - accuracy: 0.5474\n",
      "Epoch 99/300\n",
      "98/98 [==============================] - 0s 794us/step - loss: 0.0000e+00 - accuracy: 0.5474\n",
      "Epoch 100/300\n",
      "98/98 [==============================] - 0s 763us/step - loss: 0.0000e+00 - accuracy: 0.5474\n",
      "Epoch 101/300\n",
      "98/98 [==============================] - 0s 773us/step - loss: 0.0000e+00 - accuracy: 0.5468\n",
      "Epoch 102/300\n",
      "98/98 [==============================] - 0s 794us/step - loss: 0.0000e+00 - accuracy: 0.5474\n",
      "Epoch 103/300\n",
      "98/98 [==============================] - 0s 783us/step - loss: 0.0000e+00 - accuracy: 0.5474\n",
      "Epoch 104/300\n",
      "98/98 [==============================] - 0s 773us/step - loss: 0.0000e+00 - accuracy: 0.5474\n",
      "Epoch 105/300\n",
      "98/98 [==============================] - 0s 773us/step - loss: 0.0000e+00 - accuracy: 0.5462\n",
      "Epoch 106/300\n",
      "98/98 [==============================] - 0s 773us/step - loss: 0.0000e+00 - accuracy: 0.5468\n",
      "Epoch 107/300\n",
      "98/98 [==============================] - 0s 763us/step - loss: 0.0000e+00 - accuracy: 0.5468\n",
      "Epoch 108/300\n",
      "98/98 [==============================] - 0s 768us/step - loss: 0.0000e+00 - accuracy: 0.5468\n",
      "Epoch 109/300\n",
      "98/98 [==============================] - 0s 753us/step - loss: 0.0000e+00 - accuracy: 0.5462\n",
      "Epoch 110/300\n",
      "98/98 [==============================] - 0s 763us/step - loss: 0.0000e+00 - accuracy: 0.5474\n",
      "Epoch 111/300\n",
      "98/98 [==============================] - 0s 763us/step - loss: 0.0000e+00 - accuracy: 0.5474\n",
      "Epoch 112/300\n",
      "98/98 [==============================] - 0s 763us/step - loss: 0.0000e+00 - accuracy: 0.5468\n",
      "Epoch 113/300\n",
      "98/98 [==============================] - 0s 763us/step - loss: 0.0000e+00 - accuracy: 0.5474\n",
      "Epoch 114/300\n",
      "98/98 [==============================] - 0s 773us/step - loss: 0.0000e+00 - accuracy: 0.5468\n",
      "Epoch 115/300\n",
      "98/98 [==============================] - 0s 763us/step - loss: 0.0000e+00 - accuracy: 0.5474\n",
      "Epoch 116/300\n",
      "98/98 [==============================] - 0s 835us/step - loss: 0.0000e+00 - accuracy: 0.5468\n",
      "Epoch 117/300\n",
      "98/98 [==============================] - 0s 774us/step - loss: 0.0000e+00 - accuracy: 0.5474\n",
      "Epoch 118/300\n",
      "98/98 [==============================] - 0s 783us/step - loss: 0.0000e+00 - accuracy: 0.5474\n",
      "Epoch 119/300\n",
      "98/98 [==============================] - 0s 773us/step - loss: 0.0000e+00 - accuracy: 0.5474\n",
      "Epoch 120/300\n",
      "98/98 [==============================] - 0s 773us/step - loss: 0.0000e+00 - accuracy: 0.5468\n",
      "Epoch 121/300\n",
      "98/98 [==============================] - 0s 753us/step - loss: 0.0000e+00 - accuracy: 0.5468\n",
      "Epoch 122/300\n",
      "98/98 [==============================] - 0s 763us/step - loss: 0.0000e+00 - accuracy: 0.5474\n",
      "Epoch 123/300\n",
      "98/98 [==============================] - 0s 773us/step - loss: 0.0000e+00 - accuracy: 0.5468\n",
      "Epoch 124/300\n",
      "98/98 [==============================] - 0s 753us/step - loss: 0.0000e+00 - accuracy: 0.5468\n",
      "Epoch 125/300\n",
      "98/98 [==============================] - 0s 773us/step - loss: 0.0000e+00 - accuracy: 0.5474\n",
      "Epoch 126/300\n",
      "98/98 [==============================] - 0s 763us/step - loss: 0.0000e+00 - accuracy: 0.5474\n",
      "Epoch 127/300\n",
      "98/98 [==============================] - 0s 763us/step - loss: 0.0000e+00 - accuracy: 0.5474\n",
      "Epoch 128/300\n",
      "98/98 [==============================] - 0s 783us/step - loss: 0.0000e+00 - accuracy: 0.5474\n",
      "Epoch 129/300\n",
      "98/98 [==============================] - 0s 763us/step - loss: 0.0000e+00 - accuracy: 0.5474\n",
      "Epoch 130/300\n",
      "98/98 [==============================] - 0s 763us/step - loss: 0.0000e+00 - accuracy: 0.5474\n",
      "Epoch 131/300\n",
      "98/98 [==============================] - 0s 753us/step - loss: 0.0000e+00 - accuracy: 0.5474\n",
      "Epoch 132/300\n",
      "98/98 [==============================] - 0s 763us/step - loss: 0.0000e+00 - accuracy: 0.5474\n",
      "Epoch 133/300\n",
      "98/98 [==============================] - 0s 763us/step - loss: 0.0000e+00 - accuracy: 0.5474\n",
      "Epoch 134/300\n",
      "98/98 [==============================] - 0s 763us/step - loss: 0.0000e+00 - accuracy: 0.5474\n",
      "Epoch 135/300\n",
      "98/98 [==============================] - 0s 753us/step - loss: 0.0000e+00 - accuracy: 0.5474\n",
      "Epoch 136/300\n",
      "98/98 [==============================] - 0s 753us/step - loss: 0.0000e+00 - accuracy: 0.5468\n",
      "Epoch 137/300\n",
      "98/98 [==============================] - 0s 753us/step - loss: 0.0000e+00 - accuracy: 0.5474\n",
      "Epoch 138/300\n",
      "98/98 [==============================] - 0s 752us/step - loss: 0.0000e+00 - accuracy: 0.5468\n",
      "Epoch 139/300\n",
      "98/98 [==============================] - 0s 753us/step - loss: 0.0000e+00 - accuracy: 0.5468\n",
      "Epoch 140/300\n",
      "98/98 [==============================] - 0s 753us/step - loss: 0.0000e+00 - accuracy: 0.5468\n",
      "Epoch 141/300\n",
      "98/98 [==============================] - 0s 845us/step - loss: 0.0000e+00 - accuracy: 0.5468\n",
      "Epoch 142/300\n",
      "98/98 [==============================] - 0s 774us/step - loss: 0.0000e+00 - accuracy: 0.5468\n",
      "Epoch 143/300\n",
      "98/98 [==============================] - 0s 763us/step - loss: 0.0000e+00 - accuracy: 0.5468\n",
      "Epoch 144/300\n",
      "98/98 [==============================] - 0s 773us/step - loss: 0.0000e+00 - accuracy: 0.5468\n",
      "Epoch 145/300\n",
      "98/98 [==============================] - 0s 784us/step - loss: 0.0000e+00 - accuracy: 0.5468\n",
      "Epoch 146/300\n",
      "98/98 [==============================] - 0s 763us/step - loss: 0.0000e+00 - accuracy: 0.5468\n",
      "Epoch 147/300\n",
      "98/98 [==============================] - 0s 763us/step - loss: 0.0000e+00 - accuracy: 0.5468\n",
      "Epoch 148/300\n",
      "98/98 [==============================] - 0s 774us/step - loss: 0.0000e+00 - accuracy: 0.5468\n",
      "Epoch 149/300\n",
      "98/98 [==============================] - 0s 773us/step - loss: 0.0000e+00 - accuracy: 0.5468\n",
      "Epoch 150/300\n",
      "98/98 [==============================] - 0s 794us/step - loss: 0.0000e+00 - accuracy: 0.5468\n",
      "Epoch 151/300\n",
      "98/98 [==============================] - 0s 763us/step - loss: 0.0000e+00 - accuracy: 0.5468\n",
      "Epoch 152/300\n",
      "98/98 [==============================] - 0s 774us/step - loss: 0.0000e+00 - accuracy: 0.5468\n",
      "Epoch 153/300\n",
      "98/98 [==============================] - 0s 784us/step - loss: 0.0000e+00 - accuracy: 0.5468\n",
      "Epoch 154/300\n",
      "98/98 [==============================] - 0s 783us/step - loss: 0.0000e+00 - accuracy: 0.5468\n",
      "Epoch 155/300\n",
      "98/98 [==============================] - 0s 753us/step - loss: 0.0000e+00 - accuracy: 0.5468\n",
      "Epoch 156/300\n",
      "98/98 [==============================] - 0s 773us/step - loss: 0.0000e+00 - accuracy: 0.5468\n",
      "Epoch 157/300\n",
      "98/98 [==============================] - 0s 783us/step - loss: 0.0000e+00 - accuracy: 0.5468\n",
      "Epoch 158/300\n",
      "98/98 [==============================] - 0s 783us/step - loss: 0.0000e+00 - accuracy: 0.5468\n",
      "Epoch 159/300\n",
      "98/98 [==============================] - 0s 774us/step - loss: 0.0000e+00 - accuracy: 0.5468\n",
      "Epoch 160/300\n",
      "98/98 [==============================] - 0s 753us/step - loss: 0.0000e+00 - accuracy: 0.5468\n",
      "Epoch 161/300\n",
      "98/98 [==============================] - 0s 763us/step - loss: 0.0000e+00 - accuracy: 0.5468\n",
      "Epoch 162/300\n",
      "98/98 [==============================] - 0s 824us/step - loss: 0.0000e+00 - accuracy: 0.5468\n",
      "Epoch 163/300\n",
      "98/98 [==============================] - 0s 774us/step - loss: 0.0000e+00 - accuracy: 0.5468\n",
      "Epoch 164/300\n",
      "98/98 [==============================] - 0s 784us/step - loss: 0.0000e+00 - accuracy: 0.5468\n",
      "Epoch 165/300\n",
      "98/98 [==============================] - 0s 774us/step - loss: 0.0000e+00 - accuracy: 0.5468\n",
      "Epoch 166/300\n",
      "98/98 [==============================] - 0s 763us/step - loss: 0.0000e+00 - accuracy: 0.5468\n",
      "Epoch 167/300\n",
      "98/98 [==============================] - 0s 763us/step - loss: 0.0000e+00 - accuracy: 0.5468\n",
      "Epoch 168/300\n",
      "98/98 [==============================] - 0s 763us/step - loss: 0.0000e+00 - accuracy: 0.5468\n",
      "Epoch 169/300\n",
      "98/98 [==============================] - 0s 783us/step - loss: 0.0000e+00 - accuracy: 0.5468\n",
      "Epoch 170/300\n",
      "98/98 [==============================] - 0s 794us/step - loss: 0.0000e+00 - accuracy: 0.5468\n",
      "Epoch 171/300\n",
      "98/98 [==============================] - 0s 774us/step - loss: 0.0000e+00 - accuracy: 0.5468\n",
      "Epoch 172/300\n",
      "98/98 [==============================] - 0s 763us/step - loss: 0.0000e+00 - accuracy: 0.5468\n",
      "Epoch 173/300\n",
      "98/98 [==============================] - 0s 763us/step - loss: 0.0000e+00 - accuracy: 0.5468\n",
      "Epoch 174/300\n",
      "98/98 [==============================] - 0s 762us/step - loss: 0.0000e+00 - accuracy: 0.5468\n",
      "Epoch 175/300\n",
      "98/98 [==============================] - 0s 774us/step - loss: 0.0000e+00 - accuracy: 0.5468\n",
      "Epoch 176/300\n",
      "98/98 [==============================] - 0s 784us/step - loss: 0.0000e+00 - accuracy: 0.5468\n",
      "Epoch 177/300\n",
      "98/98 [==============================] - 0s 773us/step - loss: 0.0000e+00 - accuracy: 0.5468\n",
      "Epoch 178/300\n",
      "98/98 [==============================] - 0s 763us/step - loss: 0.0000e+00 - accuracy: 0.5468\n",
      "Epoch 179/300\n",
      "98/98 [==============================] - 0s 773us/step - loss: 0.0000e+00 - accuracy: 0.5468\n",
      "Epoch 180/300\n",
      "98/98 [==============================] - 0s 753us/step - loss: 0.0000e+00 - accuracy: 0.5468\n",
      "Epoch 181/300\n",
      "98/98 [==============================] - 0s 763us/step - loss: 0.0000e+00 - accuracy: 0.5468\n",
      "Epoch 182/300\n",
      "98/98 [==============================] - 0s 835us/step - loss: 0.0000e+00 - accuracy: 0.5468\n",
      "Epoch 183/300\n",
      "98/98 [==============================] - 0s 763us/step - loss: 0.0000e+00 - accuracy: 0.5468\n",
      "Epoch 184/300\n",
      "98/98 [==============================] - 0s 773us/step - loss: 0.0000e+00 - accuracy: 0.5468\n",
      "Epoch 185/300\n",
      "98/98 [==============================] - 0s 783us/step - loss: 0.0000e+00 - accuracy: 0.5468\n",
      "Epoch 186/300\n",
      "98/98 [==============================] - 0s 774us/step - loss: 0.0000e+00 - accuracy: 0.5468\n",
      "Epoch 187/300\n",
      "98/98 [==============================] - 0s 773us/step - loss: 0.0000e+00 - accuracy: 0.5468\n",
      "Epoch 188/300\n",
      "98/98 [==============================] - 0s 763us/step - loss: 0.0000e+00 - accuracy: 0.5468\n",
      "Epoch 189/300\n",
      "98/98 [==============================] - 0s 753us/step - loss: 0.0000e+00 - accuracy: 0.5468\n",
      "Epoch 190/300\n",
      "98/98 [==============================] - 0s 763us/step - loss: 0.0000e+00 - accuracy: 0.5468\n",
      "Epoch 191/300\n",
      "98/98 [==============================] - 0s 763us/step - loss: 0.0000e+00 - accuracy: 0.5468\n",
      "Epoch 192/300\n",
      "98/98 [==============================] - 0s 763us/step - loss: 0.0000e+00 - accuracy: 0.5468\n",
      "Epoch 193/300\n",
      "98/98 [==============================] - 0s 762us/step - loss: 0.0000e+00 - accuracy: 0.5468\n",
      "Epoch 194/300\n",
      "98/98 [==============================] - 0s 784us/step - loss: 0.0000e+00 - accuracy: 0.5468\n",
      "Epoch 195/300\n",
      "98/98 [==============================] - 0s 763us/step - loss: 0.0000e+00 - accuracy: 0.5468\n",
      "Epoch 196/300\n",
      "98/98 [==============================] - 0s 763us/step - loss: 0.0000e+00 - accuracy: 0.5468\n",
      "Epoch 197/300\n",
      "98/98 [==============================] - 0s 784us/step - loss: 0.0000e+00 - accuracy: 0.5468\n",
      "Epoch 198/300\n",
      "98/98 [==============================] - 0s 783us/step - loss: 0.0000e+00 - accuracy: 0.5468\n",
      "Epoch 199/300\n",
      "98/98 [==============================] - 0s 763us/step - loss: 0.0000e+00 - accuracy: 0.5468\n",
      "Epoch 200/300\n",
      "98/98 [==============================] - 0s 763us/step - loss: 0.0000e+00 - accuracy: 0.5468\n",
      "Epoch 201/300\n",
      "98/98 [==============================] - 0s 763us/step - loss: 0.0000e+00 - accuracy: 0.5468\n",
      "Epoch 202/300\n",
      "98/98 [==============================] - 0s 753us/step - loss: 0.0000e+00 - accuracy: 0.5468\n",
      "Epoch 203/300\n",
      "98/98 [==============================] - 0s 825us/step - loss: 0.0000e+00 - accuracy: 0.5468\n",
      "Epoch 204/300\n",
      "98/98 [==============================] - 0s 773us/step - loss: 0.0000e+00 - accuracy: 0.5468\n",
      "Epoch 205/300\n",
      "98/98 [==============================] - 0s 753us/step - loss: 0.0000e+00 - accuracy: 0.5468\n",
      "Epoch 206/300\n",
      "98/98 [==============================] - 0s 783us/step - loss: 0.0000e+00 - accuracy: 0.5468\n",
      "Epoch 207/300\n",
      "98/98 [==============================] - 0s 763us/step - loss: 0.0000e+00 - accuracy: 0.5468\n",
      "Epoch 208/300\n",
      "98/98 [==============================] - 0s 763us/step - loss: 0.0000e+00 - accuracy: 0.5468\n",
      "Epoch 209/300\n",
      "98/98 [==============================] - 0s 773us/step - loss: 0.0000e+00 - accuracy: 0.5468\n",
      "Epoch 210/300\n",
      "98/98 [==============================] - 0s 773us/step - loss: 0.0000e+00 - accuracy: 0.5468\n",
      "Epoch 211/300\n",
      "98/98 [==============================] - 0s 773us/step - loss: 0.0000e+00 - accuracy: 0.5468\n",
      "Epoch 212/300\n",
      "98/98 [==============================] - 0s 774us/step - loss: 0.0000e+00 - accuracy: 0.5468\n",
      "Epoch 213/300\n",
      "98/98 [==============================] - 0s 762us/step - loss: 0.0000e+00 - accuracy: 0.5468\n",
      "Epoch 214/300\n",
      "98/98 [==============================] - 0s 763us/step - loss: 0.0000e+00 - accuracy: 0.5468\n",
      "Epoch 215/300\n",
      "98/98 [==============================] - 0s 763us/step - loss: 0.0000e+00 - accuracy: 0.5468\n",
      "Epoch 216/300\n",
      "98/98 [==============================] - 0s 763us/step - loss: 0.0000e+00 - accuracy: 0.5468\n",
      "Epoch 217/300\n",
      "98/98 [==============================] - 0s 775us/step - loss: 0.0000e+00 - accuracy: 0.5468\n",
      "Epoch 218/300\n",
      "98/98 [==============================] - 0s 773us/step - loss: 0.0000e+00 - accuracy: 0.5468\n",
      "Epoch 219/300\n",
      "98/98 [==============================] - 0s 763us/step - loss: 0.0000e+00 - accuracy: 0.5468\n",
      "Epoch 220/300\n",
      "98/98 [==============================] - 0s 773us/step - loss: 0.0000e+00 - accuracy: 0.5468\n",
      "Epoch 221/300\n",
      "98/98 [==============================] - 0s 773us/step - loss: 0.0000e+00 - accuracy: 0.5468\n",
      "Epoch 222/300\n",
      "98/98 [==============================] - 0s 825us/step - loss: 0.0000e+00 - accuracy: 0.5468\n",
      "Epoch 223/300\n",
      "98/98 [==============================] - 0s 773us/step - loss: 0.0000e+00 - accuracy: 0.5468\n",
      "Epoch 224/300\n",
      "98/98 [==============================] - 0s 774us/step - loss: 0.0000e+00 - accuracy: 0.5468\n",
      "Epoch 225/300\n",
      "98/98 [==============================] - 0s 763us/step - loss: 0.0000e+00 - accuracy: 0.5468\n",
      "Epoch 226/300\n",
      "98/98 [==============================] - 0s 774us/step - loss: 0.0000e+00 - accuracy: 0.5468\n",
      "Epoch 227/300\n",
      "98/98 [==============================] - 0s 773us/step - loss: 0.0000e+00 - accuracy: 0.5468\n",
      "Epoch 228/300\n",
      "98/98 [==============================] - 0s 773us/step - loss: 0.0000e+00 - accuracy: 0.5468\n",
      "Epoch 229/300\n",
      "98/98 [==============================] - 0s 763us/step - loss: 0.0000e+00 - accuracy: 0.5468\n",
      "Epoch 230/300\n",
      "98/98 [==============================] - 0s 773us/step - loss: 0.0000e+00 - accuracy: 0.5468\n",
      "Epoch 231/300\n",
      "98/98 [==============================] - 0s 773us/step - loss: 0.0000e+00 - accuracy: 0.5468\n",
      "Epoch 232/300\n",
      "98/98 [==============================] - 0s 753us/step - loss: 0.0000e+00 - accuracy: 0.5468\n",
      "Epoch 233/300\n",
      "98/98 [==============================] - 0s 753us/step - loss: 0.0000e+00 - accuracy: 0.5468\n",
      "Epoch 234/300\n",
      "98/98 [==============================] - 0s 763us/step - loss: 0.0000e+00 - accuracy: 0.5468\n",
      "Epoch 235/300\n",
      "98/98 [==============================] - 0s 773us/step - loss: 0.0000e+00 - accuracy: 0.5468\n",
      "Epoch 236/300\n",
      "98/98 [==============================] - 0s 774us/step - loss: 0.0000e+00 - accuracy: 0.5468\n",
      "Epoch 237/300\n",
      "98/98 [==============================] - 0s 763us/step - loss: 0.0000e+00 - accuracy: 0.5468\n",
      "Epoch 238/300\n",
      "98/98 [==============================] - 0s 763us/step - loss: 0.0000e+00 - accuracy: 0.5468\n",
      "Epoch 239/300\n",
      "98/98 [==============================] - 0s 846us/step - loss: 0.0000e+00 - accuracy: 0.5468\n",
      "Epoch 240/300\n",
      "98/98 [==============================] - 0s 753us/step - loss: 0.0000e+00 - accuracy: 0.5468\n",
      "Epoch 241/300\n",
      "98/98 [==============================] - 0s 763us/step - loss: 0.0000e+00 - accuracy: 0.5468\n",
      "Epoch 242/300\n",
      "98/98 [==============================] - 0s 773us/step - loss: 0.0000e+00 - accuracy: 0.5468\n",
      "Epoch 243/300\n",
      "98/98 [==============================] - 0s 793us/step - loss: 0.0000e+00 - accuracy: 0.5468\n",
      "Epoch 244/300\n",
      "98/98 [==============================] - 0s 753us/step - loss: 0.0000e+00 - accuracy: 0.5468\n",
      "Epoch 245/300\n",
      "98/98 [==============================] - 0s 753us/step - loss: 0.0000e+00 - accuracy: 0.5468\n",
      "Epoch 246/300\n",
      "98/98 [==============================] - 0s 763us/step - loss: 0.0000e+00 - accuracy: 0.5468\n",
      "Epoch 247/300\n",
      "98/98 [==============================] - 0s 774us/step - loss: 0.0000e+00 - accuracy: 0.5468\n",
      "Epoch 248/300\n",
      "98/98 [==============================] - 0s 763us/step - loss: 0.0000e+00 - accuracy: 0.5468\n",
      "Epoch 249/300\n",
      "98/98 [==============================] - 0s 773us/step - loss: 0.0000e+00 - accuracy: 0.5468\n",
      "Epoch 250/300\n",
      "98/98 [==============================] - 0s 753us/step - loss: 0.0000e+00 - accuracy: 0.5468\n",
      "Epoch 251/300\n",
      "98/98 [==============================] - 0s 774us/step - loss: 0.0000e+00 - accuracy: 0.5468\n",
      "Epoch 252/300\n",
      "98/98 [==============================] - 0s 783us/step - loss: 0.0000e+00 - accuracy: 0.5468\n",
      "Epoch 253/300\n",
      "98/98 [==============================] - 0s 763us/step - loss: 0.0000e+00 - accuracy: 0.5468\n",
      "Epoch 254/300\n",
      "98/98 [==============================] - 0s 763us/step - loss: 0.0000e+00 - accuracy: 0.5468\n",
      "Epoch 255/300\n",
      "98/98 [==============================] - 0s 825us/step - loss: 0.0000e+00 - accuracy: 0.5468\n",
      "Epoch 256/300\n",
      "98/98 [==============================] - 0s 763us/step - loss: 0.0000e+00 - accuracy: 0.5468\n",
      "Epoch 257/300\n",
      "98/98 [==============================] - 0s 784us/step - loss: 0.0000e+00 - accuracy: 0.5468\n",
      "Epoch 258/300\n",
      "98/98 [==============================] - 0s 783us/step - loss: 0.0000e+00 - accuracy: 0.5468\n",
      "Epoch 259/300\n",
      "98/98 [==============================] - 0s 763us/step - loss: 0.0000e+00 - accuracy: 0.5468\n",
      "Epoch 260/300\n",
      "98/98 [==============================] - 0s 773us/step - loss: 0.0000e+00 - accuracy: 0.5468\n",
      "Epoch 261/300\n",
      "98/98 [==============================] - 0s 773us/step - loss: 0.0000e+00 - accuracy: 0.5468\n",
      "Epoch 262/300\n",
      "98/98 [==============================] - 0s 794us/step - loss: 0.0000e+00 - accuracy: 0.5468\n",
      "Epoch 263/300\n",
      "98/98 [==============================] - 0s 763us/step - loss: 0.0000e+00 - accuracy: 0.5468\n",
      "Epoch 264/300\n",
      "98/98 [==============================] - 0s 773us/step - loss: 0.0000e+00 - accuracy: 0.5468\n",
      "Epoch 265/300\n",
      "98/98 [==============================] - 0s 763us/step - loss: 0.0000e+00 - accuracy: 0.5468\n",
      "Epoch 266/300\n",
      "98/98 [==============================] - 0s 763us/step - loss: 0.0000e+00 - accuracy: 0.5468\n",
      "Epoch 267/300\n",
      "98/98 [==============================] - 0s 763us/step - loss: 0.0000e+00 - accuracy: 0.5468\n",
      "Epoch 268/300\n",
      "98/98 [==============================] - 0s 784us/step - loss: 0.0000e+00 - accuracy: 0.5468\n",
      "Epoch 269/300\n",
      "98/98 [==============================] - 0s 763us/step - loss: 0.0000e+00 - accuracy: 0.5468\n",
      "Epoch 270/300\n",
      "98/98 [==============================] - 0s 835us/step - loss: 0.0000e+00 - accuracy: 0.5468\n",
      "Epoch 271/300\n",
      "98/98 [==============================] - 0s 773us/step - loss: 0.0000e+00 - accuracy: 0.5468\n",
      "Epoch 272/300\n",
      "98/98 [==============================] - 0s 773us/step - loss: 0.0000e+00 - accuracy: 0.5468\n",
      "Epoch 273/300\n",
      "98/98 [==============================] - 0s 773us/step - loss: 0.0000e+00 - accuracy: 0.5468\n",
      "Epoch 274/300\n",
      "98/98 [==============================] - 0s 773us/step - loss: 0.0000e+00 - accuracy: 0.5468\n",
      "Epoch 275/300\n",
      "98/98 [==============================] - 0s 763us/step - loss: 0.0000e+00 - accuracy: 0.5468\n",
      "Epoch 276/300\n",
      "98/98 [==============================] - 0s 753us/step - loss: 0.0000e+00 - accuracy: 0.5468\n",
      "Epoch 277/300\n",
      "98/98 [==============================] - 0s 763us/step - loss: 0.0000e+00 - accuracy: 0.5468\n",
      "Epoch 278/300\n",
      "98/98 [==============================] - 0s 763us/step - loss: 0.0000e+00 - accuracy: 0.5468\n",
      "Epoch 279/300\n",
      "98/98 [==============================] - 0s 763us/step - loss: 0.0000e+00 - accuracy: 0.5468\n",
      "Epoch 280/300\n",
      "98/98 [==============================] - 0s 763us/step - loss: 0.0000e+00 - accuracy: 0.5468\n",
      "Epoch 281/300\n",
      "98/98 [==============================] - 0s 763us/step - loss: 0.0000e+00 - accuracy: 0.5468\n",
      "Epoch 282/300\n",
      "98/98 [==============================] - 0s 773us/step - loss: 0.0000e+00 - accuracy: 0.5468\n",
      "Epoch 283/300\n",
      "98/98 [==============================] - 0s 753us/step - loss: 0.0000e+00 - accuracy: 0.5468\n",
      "Epoch 284/300\n",
      "98/98 [==============================] - 0s 763us/step - loss: 0.0000e+00 - accuracy: 0.5468\n",
      "Epoch 285/300\n",
      "98/98 [==============================] - 0s 763us/step - loss: 0.0000e+00 - accuracy: 0.5468\n",
      "Epoch 286/300\n",
      "98/98 [==============================] - 0s 825us/step - loss: 0.0000e+00 - accuracy: 0.5468\n",
      "Epoch 287/300\n",
      "98/98 [==============================] - 0s 763us/step - loss: 0.0000e+00 - accuracy: 0.5468\n",
      "Epoch 288/300\n",
      "98/98 [==============================] - 0s 773us/step - loss: 0.0000e+00 - accuracy: 0.5468\n",
      "Epoch 289/300\n",
      "98/98 [==============================] - 0s 763us/step - loss: 0.0000e+00 - accuracy: 0.5468\n",
      "Epoch 290/300\n",
      "98/98 [==============================] - 0s 774us/step - loss: 0.0000e+00 - accuracy: 0.5468\n",
      "Epoch 291/300\n",
      "98/98 [==============================] - 0s 763us/step - loss: 0.0000e+00 - accuracy: 0.5468\n",
      "Epoch 292/300\n",
      "98/98 [==============================] - 0s 763us/step - loss: 0.0000e+00 - accuracy: 0.5468\n",
      "Epoch 293/300\n",
      "98/98 [==============================] - 0s 774us/step - loss: 0.0000e+00 - accuracy: 0.5468\n",
      "Epoch 294/300\n",
      "98/98 [==============================] - 0s 763us/step - loss: 0.0000e+00 - accuracy: 0.5468\n",
      "Epoch 295/300\n",
      "98/98 [==============================] - 0s 763us/step - loss: 0.0000e+00 - accuracy: 0.5468\n",
      "Epoch 296/300\n",
      "98/98 [==============================] - 0s 763us/step - loss: 0.0000e+00 - accuracy: 0.5468\n",
      "Epoch 297/300\n",
      "98/98 [==============================] - 0s 753us/step - loss: 0.0000e+00 - accuracy: 0.5468\n",
      "Epoch 298/300\n",
      "98/98 [==============================] - 0s 763us/step - loss: 0.0000e+00 - accuracy: 0.5468\n",
      "Epoch 299/300\n",
      "98/98 [==============================] - 0s 753us/step - loss: 0.0000e+00 - accuracy: 0.5468\n",
      "Epoch 300/300\n",
      "98/98 [==============================] - 0s 763us/step - loss: 0.0000e+00 - accuracy: 0.5468\n"
     ]
    },
    {
     "data": {
      "text/plain": [
       "<keras.src.callbacks.History at 0x1accc786d90>"
      ]
     },
     "execution_count": 70,
     "metadata": {},
     "output_type": "execute_result"
    }
   ],
   "source": [
    "# https://stats.stackexchange.com/a/136542 helped a lot in avoiding overfitting\n",
    "\n",
    "model = Sequential()\n",
    "model.add(Dense(32,activation='relu',input_dim=6))\n",
    "model.add(Dense(1,activation='sigmoid'))\n",
    "\n",
    "adam = Adam(learning_rate=0.01, weight_decay=1e-6)\n",
    "model.compile(loss=CategoricalCrossentropy(), optimizer=adam, metrics=['accuracy'])\n",
    "\n",
    "model.fit(X_train, Y_train, epochs=300, batch_size=16)"
   ]
  },
  {
   "cell_type": "code",
   "execution_count": 74,
   "metadata": {
    "_uuid": "c844af4f00d40c4cce4c4e5a9a01c9a892e9533d"
   },
   "outputs": [
    {
     "name": "stdout",
     "output_type": "stream",
     "text": [
      "13/13 [==============================] - 0s 750us/step\n"
     ]
    }
   ],
   "source": [
    "Y_pred_nn = model.predict(X_test)"
   ]
  },
  {
   "cell_type": "code",
   "execution_count": 75,
   "metadata": {
    "_uuid": "7e95c4946c0103225663862f43f31c41ed5aa2b1"
   },
   "outputs": [
    {
     "data": {
      "text/plain": [
       "(391, 1)"
      ]
     },
     "execution_count": 75,
     "metadata": {},
     "output_type": "execute_result"
    }
   ],
   "source": [
    "Y_pred_nn.shape"
   ]
  },
  {
   "cell_type": "code",
   "execution_count": 76,
   "metadata": {
    "_uuid": "66d9268e3f87b5a98066196eaa39363218a20015"
   },
   "outputs": [],
   "source": [
    "rounded = [round(x[0]) for x in Y_pred_nn]\n",
    "\n",
    "Y_pred_nn = rounded"
   ]
  },
  {
   "cell_type": "code",
   "execution_count": 77,
   "metadata": {
    "_uuid": "888d79632c3191c2d11c1ec3da8dc750c9d95424"
   },
   "outputs": [
    {
     "name": "stdout",
     "output_type": "stream",
     "text": [
      "The accuracy score achieved using Neural Network is: 8.44 %\n"
     ]
    }
   ],
   "source": [
    "score_nn = round(accuracy_score(Y_pred_nn,Y_test)*100,2)\n",
    "\n",
    "print(\"The accuracy score achieved using Neural Network is: \"+str(score_nn)+\" %\")\n",
    "\n",
    "#Note: Accuracy of 85% can be achieved on the test set, by setting epochs=2000, and number of nodes = 11. "
   ]
  },
  {
   "cell_type": "markdown",
   "metadata": {
    "_uuid": "c634cd922d716d350f6db0244772260cc598dec4"
   },
   "source": [
    "## VI. Output final score"
   ]
  },
  {
   "cell_type": "code",
   "execution_count": 78,
   "metadata": {
    "_uuid": "101daa51242624c49bb8b3198d9d2c9f8f1c596e"
   },
   "outputs": [
    {
     "name": "stdout",
     "output_type": "stream",
     "text": [
      "The accuracy score achieved using Logistic Regression is: 59.59 %\n",
      "The accuracy score achieved using Naive Bayes is: 57.54 %\n",
      "The accuracy score achieved using Support Vector Machine is: 57.54 %\n",
      "The accuracy score achieved using K-Nearest Neighbors is: 57.8 %\n",
      "The accuracy score achieved using Decision Tree is: 54.73 %\n",
      "The accuracy score achieved using XGBoost is: 9.97 %\n",
      "The accuracy score achieved using Neural Network is: 8.44 %\n"
     ]
    }
   ],
   "source": [
    "scores = [score_lr,score_nb,score_svm,score_knn,score_dt,score_xgb,score_nn]\n",
    "algorithms = [\"Logistic Regression\",\"Naive Bayes\",\"Support Vector Machine\",\"K-Nearest Neighbors\",\"Decision Tree\",\"XGBoost\",\"Neural Network\"]    \n",
    "\n",
    "for i in range(len(algorithms)):\n",
    "    print(\"The accuracy score achieved using \"+algorithms[i]+\" is: \"+str(scores[i])+\" %\")"
   ]
  },
  {
   "cell_type": "code",
   "execution_count": 79,
   "metadata": {
    "_uuid": "8060c7d426f9f7b64772f37e0a74ededca16838d"
   },
   "outputs": [
    {
     "data": {
      "text/plain": [
       "<Axes: xlabel='Algorithms', ylabel='Accuracy score'>"
      ]
     },
     "execution_count": 79,
     "metadata": {},
     "output_type": "execute_result"
    },
    {
     "data": {
      "image/png": "[encoded data removed]",
      "text/plain": [
       "<Figure size 1500x800 with 1 Axes>"
      ]
     },
     "metadata": {},
     "output_type": "display_data"
    }
   ],
   "source": [
    "sns.set(rc={'figure.figsize':(15,8)})\n",
    "plt.xlabel(\"Algorithms\")\n",
    "plt.ylabel(\"Accuracy score\")\n",
    "\n",
    "sns.barplot(x=algorithms,y=scores)"
   ]
  }
 ],
 "metadata": {
  "kernelspec": {
   "display_name": "Python 3 (ipykernel)",
   "language": "python",
   "name": "python3"
  },
  "language_info": {
   "codemirror_mode": {
    "name": "ipython",
    "version": 3
   },
   "file_extension": ".py",
   "mimetype": "text/x-python",
   "name": "python",
   "nbconvert_exporter": "python",
   "pygments_lexer": "ipython3",
   "version": "3.9.5"
  }
 },
 "nbformat": 4,
 "nbformat_minor": 4
}
